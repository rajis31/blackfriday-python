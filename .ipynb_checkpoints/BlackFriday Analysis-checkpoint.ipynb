{
 "cells": [
  {
   "cell_type": "markdown",
   "metadata": {},
   "source": [
    "## BlackFriday Dataset Analysis"
   ]
  },
  {
   "cell_type": "code",
   "execution_count": 1,
   "metadata": {},
   "outputs": [],
   "source": [
    "%matplotlib inline\n",
    "import numpy as np\n",
    "import scipy as sp\n",
    "import matplotlib as mpl\n",
    "import matplotlib.cm as cm\n",
    "import matplotlib.pyplot as plt\n",
    "import pandas as pd\n",
    "import time\n",
    "import sqlite3 as sql\n",
    "import re\n",
    "pd.set_option('display.width', 500)\n",
    "pd.set_option('display.max_columns', 100)\n",
    "pd.set_option('display.notebook_repr_html', True)\n",
    "import seaborn as sns\n",
    "from IPython.display import Image\n",
    "import statsmodels.api as sm\n",
    "import statsmodels.formula.api as smf"
   ]
  },
  {
   "cell_type": "markdown",
   "metadata": {},
   "source": [
    "<img src=\"workflow.jpg?2\" width=\"750\" height=\"650\" align=\"center\"/>"
   ]
  },
  {
   "cell_type": "markdown",
   "metadata": {},
   "source": [
    "In the above diagram, I outline the data science process in general. Ideally, we start with **Step 0** which is identifying and framing a business decision problem. From here I'll define the rest of the steps \n",
    "\n",
    " **1. Data is Collected** - Here we identify the data elements that should be collected to solve the business problem. Here we also consider the amount of time to collect the data, how much data is needed to make your experiment impactful, costs, benefits vs. cons. We should identify all the needed data before moving on and have a good understanding of the different data sources involved. \n",
    " \n",
    " **2. Data is Processed** - Here we prepare the data and get into a format that can be used for further analysis. This step normally takes the longest as the data source(s) maybe in different formats. For example, you may have data from a legacy system stored in 20 different tables while you have data coming from a non-relational database.\n",
    " \n",
    " **3. Clean the Data Set** - This is where we start to identify missing values, duplicates, outliers, and other things that would affect the data quality. Just note that we should simply not delete the data without doing further research as that data may contain some value information. \n",
    " \n",
    " **4. EDA** - This is also called exploratory data analysis. Here we create different plots and summarizations to identify patterns within the data. Just note if there are further issues identified within the data then we go back to **step 2**.\n",
    "\n",
    " **5. Model Building** - This step we fit appropriate models based on business problem and it is experimental meaning that there is no right way to go about this. While there are clear things you should not do such as introducing selection bias into your sample, no single model is correct. Just remember that all models are bad but there some better than others. \n",
    " \n",
    " **6. Communicate, Visualize, Report Building** - Here we formulate our analysis from the prior steps into something that is presentable and is clear. It should be straight to the point while taking the audience into heavy consideration. Your analysis will be used to help drive a business decision.\n",
    " \n",
    "I will be using this as a template for the rest of my analysis below.\n"
   ]
  },
  {
   "cell_type": "markdown",
   "metadata": {},
   "source": [
    "### Business Problem"
   ]
  },
  {
   "cell_type": "markdown",
   "metadata": {},
   "source": [
    "We will be using **Black Friday** dataset from Kaggle and the link is  <a href=\"https://www.kaggle.com/mehdidag/black-friday\"> here</a> . Basically we are going to predict how much a customer will purchase based on prior purchase history. We will also use clustering and other methods to see if we can gain more insight about different customer groups. "
   ]
  },
  {
   "cell_type": "markdown",
   "metadata": {},
   "source": [
    "### 1.Data Collection"
   ]
  },
  {
   "cell_type": "markdown",
   "metadata": {},
   "source": [
    "Since this dataset was already collected for us, we will list the data elements and descriptions below. \n",
    "\n",
    "\n",
    "|Name|Type|Description|\n",
    "|---|---|---|\n",
    "|User_ID |Id| User | \n",
    "|Product_ID | Id |  Product |\n",
    "|Gender| Boolean| N/A   |\n",
    "|Age| Age| Age of Customer |\n",
    "|Occupation| Id |Occupation of each customer|\n",
    "|City_Category | Category | N/A\n",
    "|Stay_In_Current_City_Years | Integer | N/A\n",
    "|Marital_Status|Category | N/A\n",
    "|Product_Category_1| Category | N/A\n",
    "|Product_Category_2| Category | N/A\n",
    "|Product_Category_3| Category | N/A\n",
    "|Purchase| Float| Purchase amount in dollar ( Target)\n",
    "\n",
    "**Note 1** - Purchase is the dependent variable. "
   ]
  },
  {
   "cell_type": "markdown",
   "metadata": {},
   "source": [
    " ### 2.Data is Processed "
   ]
  },
  {
   "cell_type": "markdown",
   "metadata": {},
   "source": [
    "Here the data is already in a format we want to analyze."
   ]
  },
  {
   "cell_type": "markdown",
   "metadata": {},
   "source": [
    "### 3. Clean the dataset"
   ]
  },
  {
   "cell_type": "markdown",
   "metadata": {},
   "source": [
    "Here we check for missing values, outliers, etc.  The first thing we'll do is read in the data and print out the first few rows of the data. \n",
    "\n",
    "`data.head(n=5): ` This prints out the first 5 rows of the data"
   ]
  },
  {
   "cell_type": "code",
   "execution_count": 2,
   "metadata": {
    "scrolled": false
   },
   "outputs": [
    {
     "data": {
      "text/html": [
       "<div>\n",
       "<style scoped>\n",
       "    .dataframe tbody tr th:only-of-type {\n",
       "        vertical-align: middle;\n",
       "    }\n",
       "\n",
       "    .dataframe tbody tr th {\n",
       "        vertical-align: top;\n",
       "    }\n",
       "\n",
       "    .dataframe thead th {\n",
       "        text-align: right;\n",
       "    }\n",
       "</style>\n",
       "<table border=\"1\" class=\"dataframe\">\n",
       "  <thead>\n",
       "    <tr style=\"text-align: right;\">\n",
       "      <th></th>\n",
       "      <th>User_ID</th>\n",
       "      <th>Product_ID</th>\n",
       "      <th>Gender</th>\n",
       "      <th>Age</th>\n",
       "      <th>Occupation</th>\n",
       "      <th>City_Category</th>\n",
       "      <th>Stay_In_Current_City_Years</th>\n",
       "      <th>Marital_Status</th>\n",
       "      <th>Product_Category_1</th>\n",
       "      <th>Product_Category_2</th>\n",
       "      <th>Product_Category_3</th>\n",
       "      <th>Purchase</th>\n",
       "    </tr>\n",
       "  </thead>\n",
       "  <tbody>\n",
       "    <tr>\n",
       "      <th>0</th>\n",
       "      <td>1000001</td>\n",
       "      <td>P00069042</td>\n",
       "      <td>F</td>\n",
       "      <td>0-17</td>\n",
       "      <td>10</td>\n",
       "      <td>A</td>\n",
       "      <td>2</td>\n",
       "      <td>0</td>\n",
       "      <td>3</td>\n",
       "      <td>NaN</td>\n",
       "      <td>NaN</td>\n",
       "      <td>8370</td>\n",
       "    </tr>\n",
       "    <tr>\n",
       "      <th>1</th>\n",
       "      <td>1000001</td>\n",
       "      <td>P00248942</td>\n",
       "      <td>F</td>\n",
       "      <td>0-17</td>\n",
       "      <td>10</td>\n",
       "      <td>A</td>\n",
       "      <td>2</td>\n",
       "      <td>0</td>\n",
       "      <td>1</td>\n",
       "      <td>6.0</td>\n",
       "      <td>14.0</td>\n",
       "      <td>15200</td>\n",
       "    </tr>\n",
       "    <tr>\n",
       "      <th>2</th>\n",
       "      <td>1000001</td>\n",
       "      <td>P00087842</td>\n",
       "      <td>F</td>\n",
       "      <td>0-17</td>\n",
       "      <td>10</td>\n",
       "      <td>A</td>\n",
       "      <td>2</td>\n",
       "      <td>0</td>\n",
       "      <td>12</td>\n",
       "      <td>NaN</td>\n",
       "      <td>NaN</td>\n",
       "      <td>1422</td>\n",
       "    </tr>\n",
       "    <tr>\n",
       "      <th>3</th>\n",
       "      <td>1000001</td>\n",
       "      <td>P00085442</td>\n",
       "      <td>F</td>\n",
       "      <td>0-17</td>\n",
       "      <td>10</td>\n",
       "      <td>A</td>\n",
       "      <td>2</td>\n",
       "      <td>0</td>\n",
       "      <td>12</td>\n",
       "      <td>14.0</td>\n",
       "      <td>NaN</td>\n",
       "      <td>1057</td>\n",
       "    </tr>\n",
       "    <tr>\n",
       "      <th>4</th>\n",
       "      <td>1000002</td>\n",
       "      <td>P00285442</td>\n",
       "      <td>M</td>\n",
       "      <td>55+</td>\n",
       "      <td>16</td>\n",
       "      <td>C</td>\n",
       "      <td>4+</td>\n",
       "      <td>0</td>\n",
       "      <td>8</td>\n",
       "      <td>NaN</td>\n",
       "      <td>NaN</td>\n",
       "      <td>7969</td>\n",
       "    </tr>\n",
       "  </tbody>\n",
       "</table>\n",
       "</div>"
      ],
      "text/plain": [
       "   User_ID Product_ID Gender   Age  Occupation City_Category Stay_In_Current_City_Years  Marital_Status  Product_Category_1  Product_Category_2  Product_Category_3  Purchase\n",
       "0  1000001  P00069042      F  0-17          10             A                          2               0                   3                 NaN                 NaN      8370\n",
       "1  1000001  P00248942      F  0-17          10             A                          2               0                   1                 6.0                14.0     15200\n",
       "2  1000001  P00087842      F  0-17          10             A                          2               0                  12                 NaN                 NaN      1422\n",
       "3  1000001  P00085442      F  0-17          10             A                          2               0                  12                14.0                 NaN      1057\n",
       "4  1000002  P00285442      M   55+          16             C                         4+               0                   8                 NaN                 NaN      7969"
      ]
     },
     "execution_count": 2,
     "metadata": {},
     "output_type": "execute_result"
    }
   ],
   "source": [
    "data=pd.read_csv(\"BlackFriday.csv\",header=0)\n",
    "data.head(n=5)"
   ]
  },
  {
   "cell_type": "markdown",
   "metadata": {},
   "source": [
    "We already see in the first few rows that there are missing values. Let's see how much there is by looping each column and printing out the results by column.\n",
    "\n",
    "**`sum(data[i].isnull())`** - This will add up the trues which is essentially represented as a 1 in programming. <br> \n",
    "**`data.shape`** - Returns a tuple of dimensions for the dataframe"
   ]
  },
  {
   "cell_type": "code",
   "execution_count": 3,
   "metadata": {},
   "outputs": [
    {
     "name": "stdout",
     "output_type": "stream",
     "text": [
      "In Column User_ID there are 0.0% missing values\n",
      "In Column Product_ID there are 0.0% missing values\n",
      "In Column Gender there are 0.0% missing values\n",
      "In Column Age there are 0.0% missing values\n",
      "In Column Occupation there are 0.0% missing values\n",
      "In Column City_Category there are 0.0% missing values\n",
      "In Column Stay_In_Current_City_Years there are 0.0% missing values\n",
      "In Column Marital_Status there are 0.0% missing values\n",
      "In Column Product_Category_1 there are 0.0% missing values\n",
      "In Column Product_Category_2 there are 31.1% missing values\n",
      "In Column Product_Category_3 there are 69.4% missing values\n",
      "In Column Purchase there are 0.0% missing values\n"
     ]
    }
   ],
   "source": [
    "for i in data.columns:\n",
    "    print(\"In Column {0} there are {1:.1f}% missing values\".format(i, sum(data[i].isnull())/data.shape[0]*100)) "
   ]
  },
  {
   "cell_type": "markdown",
   "metadata": {},
   "source": [
    "In the print out above, we have some missing values especially with `Product_Category_2` and `Product_Category_3`. We will try to replace the missing values with a 0 since they are categorical. Also we will ensure that the column datatypes are accurate, as pandas does its best to guess the datatype and sometimes chooses the incorrect one. \n",
    "\n",
    "**`data.fillna(0,inplace=True)`** - Here replace all missing values with 0 and use inplace=True to return a copy of the same object. <br>\n",
    "**`data.dtypes`** - This returns an series of the datatypes by column."
   ]
  },
  {
   "cell_type": "code",
   "execution_count": 4,
   "metadata": {},
   "outputs": [
    {
     "data": {
      "text/html": [
       "<div>\n",
       "<style scoped>\n",
       "    .dataframe tbody tr th:only-of-type {\n",
       "        vertical-align: middle;\n",
       "    }\n",
       "\n",
       "    .dataframe tbody tr th {\n",
       "        vertical-align: top;\n",
       "    }\n",
       "\n",
       "    .dataframe thead th {\n",
       "        text-align: right;\n",
       "    }\n",
       "</style>\n",
       "<table border=\"1\" class=\"dataframe\">\n",
       "  <thead>\n",
       "    <tr style=\"text-align: right;\">\n",
       "      <th></th>\n",
       "      <th>User_ID</th>\n",
       "      <th>Product_ID</th>\n",
       "      <th>Gender</th>\n",
       "      <th>Age</th>\n",
       "      <th>Occupation</th>\n",
       "      <th>City_Category</th>\n",
       "      <th>Stay_In_Current_City_Years</th>\n",
       "      <th>Marital_Status</th>\n",
       "      <th>Product_Category_1</th>\n",
       "      <th>Product_Category_2</th>\n",
       "      <th>Product_Category_3</th>\n",
       "      <th>Purchase</th>\n",
       "    </tr>\n",
       "  </thead>\n",
       "  <tbody>\n",
       "    <tr>\n",
       "      <th>0</th>\n",
       "      <td>1000001</td>\n",
       "      <td>P00069042</td>\n",
       "      <td>F</td>\n",
       "      <td>0-17</td>\n",
       "      <td>10</td>\n",
       "      <td>A</td>\n",
       "      <td>2</td>\n",
       "      <td>0</td>\n",
       "      <td>3</td>\n",
       "      <td>0.0</td>\n",
       "      <td>0.0</td>\n",
       "      <td>8370</td>\n",
       "    </tr>\n",
       "    <tr>\n",
       "      <th>1</th>\n",
       "      <td>1000001</td>\n",
       "      <td>P00248942</td>\n",
       "      <td>F</td>\n",
       "      <td>0-17</td>\n",
       "      <td>10</td>\n",
       "      <td>A</td>\n",
       "      <td>2</td>\n",
       "      <td>0</td>\n",
       "      <td>1</td>\n",
       "      <td>6.0</td>\n",
       "      <td>14.0</td>\n",
       "      <td>15200</td>\n",
       "    </tr>\n",
       "    <tr>\n",
       "      <th>2</th>\n",
       "      <td>1000001</td>\n",
       "      <td>P00087842</td>\n",
       "      <td>F</td>\n",
       "      <td>0-17</td>\n",
       "      <td>10</td>\n",
       "      <td>A</td>\n",
       "      <td>2</td>\n",
       "      <td>0</td>\n",
       "      <td>12</td>\n",
       "      <td>0.0</td>\n",
       "      <td>0.0</td>\n",
       "      <td>1422</td>\n",
       "    </tr>\n",
       "    <tr>\n",
       "      <th>3</th>\n",
       "      <td>1000001</td>\n",
       "      <td>P00085442</td>\n",
       "      <td>F</td>\n",
       "      <td>0-17</td>\n",
       "      <td>10</td>\n",
       "      <td>A</td>\n",
       "      <td>2</td>\n",
       "      <td>0</td>\n",
       "      <td>12</td>\n",
       "      <td>14.0</td>\n",
       "      <td>0.0</td>\n",
       "      <td>1057</td>\n",
       "    </tr>\n",
       "    <tr>\n",
       "      <th>4</th>\n",
       "      <td>1000002</td>\n",
       "      <td>P00285442</td>\n",
       "      <td>M</td>\n",
       "      <td>55+</td>\n",
       "      <td>16</td>\n",
       "      <td>C</td>\n",
       "      <td>4+</td>\n",
       "      <td>0</td>\n",
       "      <td>8</td>\n",
       "      <td>0.0</td>\n",
       "      <td>0.0</td>\n",
       "      <td>7969</td>\n",
       "    </tr>\n",
       "  </tbody>\n",
       "</table>\n",
       "</div>"
      ],
      "text/plain": [
       "   User_ID Product_ID Gender   Age  Occupation City_Category Stay_In_Current_City_Years  Marital_Status  Product_Category_1  Product_Category_2  Product_Category_3  Purchase\n",
       "0  1000001  P00069042      F  0-17          10             A                          2               0                   3                 0.0                 0.0      8370\n",
       "1  1000001  P00248942      F  0-17          10             A                          2               0                   1                 6.0                14.0     15200\n",
       "2  1000001  P00087842      F  0-17          10             A                          2               0                  12                 0.0                 0.0      1422\n",
       "3  1000001  P00085442      F  0-17          10             A                          2               0                  12                14.0                 0.0      1057\n",
       "4  1000002  P00285442      M   55+          16             C                         4+               0                   8                 0.0                 0.0      7969"
      ]
     },
     "execution_count": 4,
     "metadata": {},
     "output_type": "execute_result"
    }
   ],
   "source": [
    "data.fillna(0,inplace=True)\n",
    "data.head(5)"
   ]
  },
  {
   "cell_type": "code",
   "execution_count": 5,
   "metadata": {},
   "outputs": [
    {
     "data": {
      "text/plain": [
       "User_ID                        int64\n",
       "Product_ID                    object\n",
       "Gender                         int64\n",
       "Age                           object\n",
       "Occupation                     int64\n",
       "City_Category                 object\n",
       "Stay_In_Current_City_Years    object\n",
       "Marital_Status                 int64\n",
       "Product_Category_1             int64\n",
       "Product_Category_2             int64\n",
       "Product_Category_3             int64\n",
       "Purchase                       int64\n",
       "dtype: object"
      ]
     },
     "execution_count": 5,
     "metadata": {},
     "output_type": "execute_result"
    }
   ],
   "source": [
    "data.dtypes\n",
    "data[\"Product_Category_2\"]=data[\"Product_Category_2\"].astype(\"int64\",copy=True)\n",
    "data[\"Product_Category_3\"]=data[\"Product_Category_3\"].astype(\"int64\",copy=True)\n",
    "data[\"Gender\"]=data[\"Gender\"].map({\"M\":0,\"F\":1})\n",
    "data.dtypes"
   ]
  },
  {
   "cell_type": "markdown",
   "metadata": {},
   "source": [
    "In terms of duplicates we'll have to assume that each transaction even though the same transaction is entirely possible. And outliers we can see how many observations fall outside $(Q_1-1.5*IQR, Q_3+1.5*IQR )$ where $Q_1$ is the 1st quartile and $Q_3$ is the 3rd quartile. This only works for numerical datatypes only. "
   ]
  },
  {
   "cell_type": "code",
   "execution_count": 6,
   "metadata": {},
   "outputs": [
    {
     "name": "stdout",
     "output_type": "stream",
     "text": [
      "There are 0         0\n",
      "1         0\n",
      "2         0\n",
      "3         0\n",
      "4         0\n",
      "5         0\n",
      "6         0\n",
      "7         0\n",
      "8         0\n",
      "9         0\n",
      "10        0\n",
      "11        0\n",
      "12        0\n",
      "13        0\n",
      "14        0\n",
      "15        0\n",
      "16        0\n",
      "17        0\n",
      "18        0\n",
      "19        0\n",
      "20        0\n",
      "21        0\n",
      "22        0\n",
      "23        0\n",
      "24        0\n",
      "25        0\n",
      "26        0\n",
      "27        0\n",
      "28        0\n",
      "29        0\n",
      "         ..\n",
      "537547    0\n",
      "537548    0\n",
      "537549    0\n",
      "537550    0\n",
      "537551    0\n",
      "537552    0\n",
      "537553    0\n",
      "537554    0\n",
      "537555    0\n",
      "537556    0\n",
      "537557    0\n",
      "537558    0\n",
      "537559    0\n",
      "537560    0\n",
      "537561    0\n",
      "537562    0\n",
      "537563    0\n",
      "537564    0\n",
      "537565    0\n",
      "537566    0\n",
      "537567    0\n",
      "537568    0\n",
      "537569    0\n",
      "537570    0\n",
      "537571    0\n",
      "537572    0\n",
      "537573    0\n",
      "537574    0\n",
      "537575    0\n",
      "537576    0\n",
      "Name: Purchase, Length: 537577, dtype: int64 potential outliers in column Purchase\n"
     ]
    },
    {
     "data": {
      "text/plain": [
       "473250    21384\n",
       "114794    21384\n",
       "133756    21385\n",
       "509539    21386\n",
       "503699    21386\n",
       "241285    21386\n",
       "Name: Purchase, dtype: int64"
      ]
     },
     "execution_count": 6,
     "metadata": {},
     "output_type": "execute_result"
    }
   ],
   "source": [
    "def outlier(x,lower_bd, upper_bd):\n",
    "    if x>=lower_bd and x<=upper_bd:\n",
    "        return 0 \n",
    "    else:\n",
    "        return 1\n",
    "IQR=data[\"Purchase\"].quantile(q=.75)-data[\"Purchase\"].quantile(q=.25)\n",
    "lower_bd=data[\"Purchase\"].quantile(q=.25)-1.5*IQR\n",
    "upper_bd=data[\"Purchase\"].quantile(q=.75)+1.5*IQR\n",
    "selection=data[\"Purchase\"].apply(lambda x: outlier(x,lower_bd,upper_bd))\n",
    "print(\"There are {0} potential outliers in column {1}\".format(selection,\"Purchase\"))\n",
    "data[\"Purchase\"][selection==1].sort_values(ascending=True)[0:6]"
   ]
  },
  {
   "cell_type": "markdown",
   "metadata": {},
   "source": [
    " ### 4. EDA"
   ]
  },
  {
   "cell_type": "markdown",
   "metadata": {},
   "source": [
    "Now that the missing values are replaced, we'll start to explore the data. Pandas has a great function called `describe()` which will return the summary by column. \n",
    "\n",
    "Some observations here: \n",
    "1. The average purchase price is 9334 while the largest purchase is 23961. \n",
    "2. Roughly half the users are married."
   ]
  },
  {
   "cell_type": "code",
   "execution_count": 7,
   "metadata": {},
   "outputs": [
    {
     "data": {
      "text/html": [
       "<div>\n",
       "<style scoped>\n",
       "    .dataframe tbody tr th:only-of-type {\n",
       "        vertical-align: middle;\n",
       "    }\n",
       "\n",
       "    .dataframe tbody tr th {\n",
       "        vertical-align: top;\n",
       "    }\n",
       "\n",
       "    .dataframe thead th {\n",
       "        text-align: right;\n",
       "    }\n",
       "</style>\n",
       "<table border=\"1\" class=\"dataframe\">\n",
       "  <thead>\n",
       "    <tr style=\"text-align: right;\">\n",
       "      <th></th>\n",
       "      <th>User_ID</th>\n",
       "      <th>Gender</th>\n",
       "      <th>Occupation</th>\n",
       "      <th>Marital_Status</th>\n",
       "      <th>Product_Category_1</th>\n",
       "      <th>Product_Category_2</th>\n",
       "      <th>Product_Category_3</th>\n",
       "      <th>Purchase</th>\n",
       "    </tr>\n",
       "  </thead>\n",
       "  <tbody>\n",
       "    <tr>\n",
       "      <th>count</th>\n",
       "      <td>5.375770e+05</td>\n",
       "      <td>537577.000000</td>\n",
       "      <td>537577.00000</td>\n",
       "      <td>537577.000000</td>\n",
       "      <td>537577.000000</td>\n",
       "      <td>537577.000000</td>\n",
       "      <td>537577.000000</td>\n",
       "      <td>537577.000000</td>\n",
       "    </tr>\n",
       "    <tr>\n",
       "      <th>mean</th>\n",
       "      <td>1.002992e+06</td>\n",
       "      <td>0.245913</td>\n",
       "      <td>8.08271</td>\n",
       "      <td>0.408797</td>\n",
       "      <td>5.295546</td>\n",
       "      <td>6.784907</td>\n",
       "      <td>3.871773</td>\n",
       "      <td>9333.859853</td>\n",
       "    </tr>\n",
       "    <tr>\n",
       "      <th>std</th>\n",
       "      <td>1.714393e+03</td>\n",
       "      <td>0.430627</td>\n",
       "      <td>6.52412</td>\n",
       "      <td>0.491612</td>\n",
       "      <td>3.750701</td>\n",
       "      <td>6.211618</td>\n",
       "      <td>6.265963</td>\n",
       "      <td>4981.022133</td>\n",
       "    </tr>\n",
       "    <tr>\n",
       "      <th>min</th>\n",
       "      <td>1.000001e+06</td>\n",
       "      <td>0.000000</td>\n",
       "      <td>0.00000</td>\n",
       "      <td>0.000000</td>\n",
       "      <td>1.000000</td>\n",
       "      <td>0.000000</td>\n",
       "      <td>0.000000</td>\n",
       "      <td>185.000000</td>\n",
       "    </tr>\n",
       "    <tr>\n",
       "      <th>25%</th>\n",
       "      <td>1.001495e+06</td>\n",
       "      <td>0.000000</td>\n",
       "      <td>2.00000</td>\n",
       "      <td>0.000000</td>\n",
       "      <td>1.000000</td>\n",
       "      <td>0.000000</td>\n",
       "      <td>0.000000</td>\n",
       "      <td>5866.000000</td>\n",
       "    </tr>\n",
       "    <tr>\n",
       "      <th>50%</th>\n",
       "      <td>1.003031e+06</td>\n",
       "      <td>0.000000</td>\n",
       "      <td>7.00000</td>\n",
       "      <td>0.000000</td>\n",
       "      <td>5.000000</td>\n",
       "      <td>5.000000</td>\n",
       "      <td>0.000000</td>\n",
       "      <td>8062.000000</td>\n",
       "    </tr>\n",
       "    <tr>\n",
       "      <th>75%</th>\n",
       "      <td>1.004417e+06</td>\n",
       "      <td>0.000000</td>\n",
       "      <td>14.00000</td>\n",
       "      <td>1.000000</td>\n",
       "      <td>8.000000</td>\n",
       "      <td>14.000000</td>\n",
       "      <td>8.000000</td>\n",
       "      <td>12073.000000</td>\n",
       "    </tr>\n",
       "    <tr>\n",
       "      <th>max</th>\n",
       "      <td>1.006040e+06</td>\n",
       "      <td>1.000000</td>\n",
       "      <td>20.00000</td>\n",
       "      <td>1.000000</td>\n",
       "      <td>18.000000</td>\n",
       "      <td>18.000000</td>\n",
       "      <td>18.000000</td>\n",
       "      <td>23961.000000</td>\n",
       "    </tr>\n",
       "  </tbody>\n",
       "</table>\n",
       "</div>"
      ],
      "text/plain": [
       "            User_ID         Gender    Occupation  Marital_Status  Product_Category_1  Product_Category_2  Product_Category_3       Purchase\n",
       "count  5.375770e+05  537577.000000  537577.00000   537577.000000       537577.000000       537577.000000       537577.000000  537577.000000\n",
       "mean   1.002992e+06       0.245913       8.08271        0.408797            5.295546            6.784907            3.871773    9333.859853\n",
       "std    1.714393e+03       0.430627       6.52412        0.491612            3.750701            6.211618            6.265963    4981.022133\n",
       "min    1.000001e+06       0.000000       0.00000        0.000000            1.000000            0.000000            0.000000     185.000000\n",
       "25%    1.001495e+06       0.000000       2.00000        0.000000            1.000000            0.000000            0.000000    5866.000000\n",
       "50%    1.003031e+06       0.000000       7.00000        0.000000            5.000000            5.000000            0.000000    8062.000000\n",
       "75%    1.004417e+06       0.000000      14.00000        1.000000            8.000000           14.000000            8.000000   12073.000000\n",
       "max    1.006040e+06       1.000000      20.00000        1.000000           18.000000           18.000000           18.000000   23961.000000"
      ]
     },
     "execution_count": 7,
     "metadata": {},
     "output_type": "execute_result"
    }
   ],
   "source": [
    "data.describe()"
   ]
  },
  {
   "cell_type": "markdown",
   "metadata": {},
   "source": [
    "In the plot below, we first eliminate the duplicate users as some users are repeat buyers. From the bar plot below we see that that the male shoppers outnumber the female shoppers by more then twice. \n",
    "\n",
    "**Notes:** <br>\n",
    "**`data[[\"User_ID\",\"Gender\"]].drop_duplicates()[\"Gender\"]`** - We select the columns User_ID and Gender and drop the duplicates followed by selecting Gender which is last in the chain. <br> "
   ]
  },
  {
   "cell_type": "code",
   "execution_count": 8,
   "metadata": {},
   "outputs": [
    {
     "data": {
      "image/png": "[encoded data removed]",
      "text/plain": [
       "<Figure size 432x288 with 1 Axes>"
      ]
     },
     "metadata": {
      "needs_background": "light"
     },
     "output_type": "display_data"
    }
   ],
   "source": [
    "sns.countplot(data[[\"User_ID\",\"Gender\"]].drop_duplicates()[\"Gender\"], order=[0,1])\n",
    "plt.xticks([0,1],['M','F'])\n",
    "plt.title(\"Distribution of Customers by Gender\")\n",
    "plt.ylabel(\"Count\")\n",
    "plt.show()"
   ]
  },
  {
   "cell_type": "markdown",
   "metadata": {},
   "source": [
    "Below we see what the distribution of married couples are. The plot shows that more buyers are single then not. "
   ]
  },
  {
   "cell_type": "code",
   "execution_count": 9,
   "metadata": {},
   "outputs": [
    {
     "data": {
      "image/png": "[encoded data removed]",
      "text/plain": [
       "<Figure size 432x288 with 1 Axes>"
      ]
     },
     "metadata": {
      "needs_background": "light"
     },
     "output_type": "display_data"
    }
   ],
   "source": [
    "sns.countplot(data[[\"User_ID\",\"Marital_Status\"]].drop_duplicates()[\"Marital_Status\"], order=[0,1])\n",
    "plt.xticks([0,1],['Single','Married'])\n",
    "plt.title(\"Married Customer Distribution\")\n",
    "plt.ylabel(\"Count\")\n",
    "plt.show()"
   ]
  },
  {
   "cell_type": "markdown",
   "metadata": {},
   "source": [
    "Below we provide a summary of the total spent by males and females, and males spent roughly 3 times more the the females. "
   ]
  },
  {
   "cell_type": "code",
   "execution_count": 10,
   "metadata": {},
   "outputs": [
    {
     "data": {
      "text/html": [
       "<div>\n",
       "<style scoped>\n",
       "    .dataframe tbody tr th:only-of-type {\n",
       "        vertical-align: middle;\n",
       "    }\n",
       "\n",
       "    .dataframe tbody tr th {\n",
       "        vertical-align: top;\n",
       "    }\n",
       "\n",
       "    .dataframe thead th {\n",
       "        text-align: right;\n",
       "    }\n",
       "</style>\n",
       "<table border=\"1\" class=\"dataframe\">\n",
       "  <thead>\n",
       "    <tr style=\"text-align: right;\">\n",
       "      <th></th>\n",
       "      <th>Purchase</th>\n",
       "    </tr>\n",
       "    <tr>\n",
       "      <th>Gender</th>\n",
       "      <th></th>\n",
       "    </tr>\n",
       "  </thead>\n",
       "  <tbody>\n",
       "    <tr>\n",
       "      <th>0</th>\n",
       "      <td>3,853,044,357</td>\n",
       "    </tr>\n",
       "    <tr>\n",
       "      <th>1</th>\n",
       "      <td>1,164,624,021</td>\n",
       "    </tr>\n",
       "  </tbody>\n",
       "</table>\n",
       "</div>"
      ],
      "text/plain": [
       "             Purchase\n",
       "Gender               \n",
       "0       3,853,044,357\n",
       "1       1,164,624,021"
      ]
     },
     "execution_count": 10,
     "metadata": {},
     "output_type": "execute_result"
    }
   ],
   "source": [
    "smry_1=data[[\"Gender\",\"Purchase\"]].groupby(\"Gender\").sum()\n",
    "smry_1[\"Purchase\"]=smry_1[\"Purchase\"].apply(lambda x: \"{:,}\".format(x))\n",
    "smry_1"
   ]
  },
  {
   "cell_type": "code",
   "execution_count": 11,
   "metadata": {},
   "outputs": [
    {
     "data": {
      "image/png": "[encoded data removed]",
      "text/plain": [
       "<Figure size 432x288 with 1 Axes>"
      ]
     },
     "metadata": {
      "needs_background": "light"
     },
     "output_type": "display_data"
    }
   ],
   "source": [
    "smry_1=data[[\"Gender\",\"Purchase\"]].groupby(\"Gender\").sum()\n",
    "sns.barplot(y=smry_1.index,x=smry_1[\"Purchase\"]/1e9,orient=\"h\",palette=\"bright\")\n",
    "plt.yticks([0,1],[\"M\",\"F\"])\n",
    "plt.xlabel(\"Purchase in Billions\")\n",
    "plt.title(\"Total Purchase by Gender\")\n",
    "plt.show()"
   ]
  },
  {
   "cell_type": "markdown",
   "metadata": {},
   "source": [
    "Next plot we will take a look at is a barchart of the amount of purchases by city. We see that in city category B had the most of amount of purchase volume. \n",
    "\n",
    "**Syntax**\n",
    "\n",
    "**1.`sns.barplot(x=smry_2.index,y=smry_2[\"Purchase\"]/1e9)`** - specify the x and y dimension where y is numerical. We divide the purchase to get the purchase in billions. <br>\n",
    "\n",
    "**2.`smry_2[\"Purchase\"].apply(lambda x: \"{:,}\".format(x))`** This will format the totals to include comma's. However this changes the data type to a string. "
   ]
  },
  {
   "cell_type": "code",
   "execution_count": 12,
   "metadata": {},
   "outputs": [
    {
     "name": "stdout",
     "output_type": "stream",
     "text": [
      "City_Category\n",
      "A    1,295,668,797\n",
      "B    2,083,431,612\n",
      "C    1,638,567,969\n",
      "Name: Purchase, dtype: object\n"
     ]
    },
    {
     "data": {
      "image/png": "[encoded data removed]",
      "text/plain": [
       "<Figure size 432x288 with 1 Axes>"
      ]
     },
     "metadata": {
      "needs_background": "light"
     },
     "output_type": "display_data"
    }
   ],
   "source": [
    "smry_2=data[[\"City_Category\",\"Purchase\"]].groupby(\"City_Category\").sum()\n",
    "print(smry_2[\"Purchase\"].apply(lambda x: \"{:,}\".format(x)))\n",
    "\n",
    "sns.barplot(x=smry_2.index,y=smry_2[\"Purchase\"]/1e9)\n",
    "plt.ylim(0,max(smry_2[\"Purchase\"])/1e9+1)\n",
    "plt.ylabel(\"Purchase in billions\")\n",
    "plt.title(\"Purchase by City Category\")\n",
    "plt.show()"
   ]
  },
  {
   "cell_type": "code",
   "execution_count": 13,
   "metadata": {},
   "outputs": [
    {
     "data": {
      "text/html": [
       "<div>\n",
       "<style scoped>\n",
       "    .dataframe tbody tr th:only-of-type {\n",
       "        vertical-align: middle;\n",
       "    }\n",
       "\n",
       "    .dataframe tbody tr th {\n",
       "        vertical-align: top;\n",
       "    }\n",
       "\n",
       "    .dataframe thead th {\n",
       "        text-align: right;\n",
       "    }\n",
       "</style>\n",
       "<table border=\"1\" class=\"dataframe\">\n",
       "  <thead>\n",
       "    <tr style=\"text-align: right;\">\n",
       "      <th></th>\n",
       "      <th>City_Category</th>\n",
       "      <th>Gender</th>\n",
       "      <th>Purchase</th>\n",
       "    </tr>\n",
       "  </thead>\n",
       "  <tbody>\n",
       "    <tr>\n",
       "      <th>0</th>\n",
       "      <td>A</td>\n",
       "      <td>0</td>\n",
       "      <td>995257521</td>\n",
       "    </tr>\n",
       "    <tr>\n",
       "      <th>1</th>\n",
       "      <td>A</td>\n",
       "      <td>1</td>\n",
       "      <td>300411276</td>\n",
       "    </tr>\n",
       "    <tr>\n",
       "      <th>2</th>\n",
       "      <td>B</td>\n",
       "      <td>0</td>\n",
       "      <td>1598118861</td>\n",
       "    </tr>\n",
       "    <tr>\n",
       "      <th>3</th>\n",
       "      <td>B</td>\n",
       "      <td>1</td>\n",
       "      <td>485312751</td>\n",
       "    </tr>\n",
       "    <tr>\n",
       "      <th>4</th>\n",
       "      <td>C</td>\n",
       "      <td>0</td>\n",
       "      <td>1259667975</td>\n",
       "    </tr>\n",
       "    <tr>\n",
       "      <th>5</th>\n",
       "      <td>C</td>\n",
       "      <td>1</td>\n",
       "      <td>378899994</td>\n",
       "    </tr>\n",
       "  </tbody>\n",
       "</table>\n",
       "</div>"
      ],
      "text/plain": [
       "  City_Category  Gender    Purchase\n",
       "0             A       0   995257521\n",
       "1             A       1   300411276\n",
       "2             B       0  1598118861\n",
       "3             B       1   485312751\n",
       "4             C       0  1259667975\n",
       "5             C       1   378899994"
      ]
     },
     "execution_count": 13,
     "metadata": {},
     "output_type": "execute_result"
    }
   ],
   "source": [
    "smry_3=data[[\"City_Category\",\"Gender\",\"Purchase\"]].groupby([\"City_Category\",\"Gender\"]).sum()\n",
    "smry_3=smry_3.reset_index()\n",
    "smry_3"
   ]
  },
  {
   "cell_type": "markdown",
   "metadata": {},
   "source": [
    "Below we plot the amount in purchases by gender and city category. Males have more purchase volume then the females while the purchase volume for females across city category remains fairly constant except in City B which has slightly more then the others. \n",
    "\n",
    "**Syntax** <br>\n",
    "**`1. sns.barplot(x=smry_3.City_Category,y=smry_3.Purchase/1e9,hue=smry_3.Gender, palette=[\"blue\",\"gold\"])`** - Here we specify the x and y axis. The `hue` argument is what we split the purchases by which is gender. The `palette` argument specifies the bar colors by city. <br> \n",
    "\n",
    "**`2. ax = plt.gca()`** - Here we specify this to get the axis of the current plot. <br>\n",
    "\n",
    "**`3.leg.legendHandles[0].set_color('blue')`** - Here we specify the colors of each of the lines in the legend.  \n"
   ]
  },
  {
   "cell_type": "code",
   "execution_count": 14,
   "metadata": {},
   "outputs": [
    {
     "data": {
      "image/png": "[encoded data removed]",
      "text/plain": [
       "<Figure size 432x288 with 1 Axes>"
      ]
     },
     "metadata": {
      "needs_background": "light"
     },
     "output_type": "display_data"
    }
   ],
   "source": [
    "sns.barplot(x=smry_3.City_Category,y=smry_3.Purchase/1e9,hue=smry_3.Gender, palette=[\"blue\",\"gold\"])\n",
    "plt.legend(labels=[\"M\",\"F\"])\n",
    "plt.ylabel(\"Purchase in Billions\")\n",
    "plt.title(\"Purchase by City Category and Gender\")\n",
    "ax = plt.gca()\n",
    "leg = ax.get_legend()\n",
    "leg.legendHandles[0].set_color('blue')\n",
    "leg.legendHandles[1].set_color('gold')\n",
    "plt.show()"
   ]
  },
  {
   "cell_type": "markdown",
   "metadata": {},
   "source": [
    "Next plot will be amount of purchase by age. We see from the plot below that individuals between 26 to 35 purchased the most. So the products are probably more towards the younger age group. "
   ]
  },
  {
   "cell_type": "code",
   "execution_count": 15,
   "metadata": {},
   "outputs": [
    {
     "data": {
      "image/png": "[encoded data removed]",
      "text/plain": [
       "<Figure size 432x288 with 1 Axes>"
      ]
     },
     "metadata": {
      "needs_background": "light"
     },
     "output_type": "display_data"
    }
   ],
   "source": [
    "smry_4=data[[\"Age\",\"Purchase\"]].groupby(\"Age\").sum()/1e9\n",
    "smry_4=smry_4.reset_index()\n",
    "sns.barplot(x=\"Age\",y=\"Purchase\",data=smry_4)\n",
    "plt.title(\"Total Purchase by Age Group\")\n",
    "plt.ylabel(\"Purchase in Billions\")\n",
    "plt.show()"
   ]
  },
  {
   "cell_type": "markdown",
   "metadata": {},
   "source": [
    "### 5. Model Building\n",
    "\n",
    "The problem here is to be able to predict purchase price based on purchase history and demographic data. We will be using the **statsmodels** package to fit linear regression models. We first begin by creating the design matrix by dropping `User_ID` and `Product_ID` since these are probably not needed as well as `Purchase` which is stored in the target variable y. Also we will recode some categorical variables as statsmodels package needs all numerical variables. Lastly we will split the datasets into training and test sets using a 75/25 split. \n",
    "\n",
    "**Notation:**<br>\n",
    "**1. `{j:i for i,j in zip(range(0,7), X[\"Age\"].unique())}`** - Here we use dictionary comprehension to generate by the unique values in the age column to integers\n",
    "\n",
    "**2.`X[\"City_Category\"].map({j:i for i,j in zip(range(0,7), X[\"Age\"].unique())}) `** - Here we are mapping the character values to integer values <br>\n",
    "\n",
    "**3.`np.random.choice(range(0, X.shape[0]),math.floor(X.shape[0]*.75),replace=False)`** - We are going to use this to split the training and test sets using a 75/25 split.\n",
    "\n",
    "**4. `X[~X.index.isin(indexes)].values`** - This is used to select only values not in the index for the test set. The ~ is the **not** operator in pandas."
   ]
  },
  {
   "cell_type": "code",
   "execution_count": 16,
   "metadata": {},
   "outputs": [],
   "source": [
    "X=data.drop(columns=[\"User_ID\",\"Product_ID\",\"Purchase\"])\n",
    "y=data[\"Purchase\"]\n",
    "\n",
    "#Recode age, City_Category\n",
    "X[\"Age\"]=X[\"Age\"].map({j:i for i,j in zip(range(0,7), X[\"Age\"].unique())})   \n",
    "X[\"City_Category\"]=X[\"City_Category\"].map({j:i for i,j in zip(range(0,3), X[\"City_Category\"].unique())})\n",
    "X[\"Stay_In_Current_City_Years\"]=X[\"Stay_In_Current_City_Years\"].map(\n",
    "    {j:i for i,j in zip(range(0,5), X[\"Stay_In_Current_City_Years\"].unique())})\n",
    "X.dtypes\n",
    "\n",
    "#Split X and y into training and test sets\n",
    "indexes=np.random.choice(range(0, X.shape[0]),int(np.floor(X.shape[0]*.75)),replace=False)\n",
    "X_train=X.iloc[indexes,:].values\n",
    "y_train=y[indexes].values\n",
    "X_test=X[~X.index.isin(indexes)].values\n",
    "y_test=y[~y.index.isin(indexes)].values\n",
    "\n",
    "X_train=sm.add_constant(X_train) #add in the intercept\n",
    "X_test=sm.add_constant(X_test)\n"
   ]
  },
  {
   "cell_type": "markdown",
   "metadata": {},
   "source": [
    "Below we see that fitting all the variables results in a poor fit. Kurtosis is high as its above 3 indicating skewness in the fit. "
   ]
  },
  {
   "cell_type": "code",
   "execution_count": 17,
   "metadata": {},
   "outputs": [],
   "source": [
    "fit1=smf.OLS(y_train,X_train).fit()"
   ]
  },
  {
   "cell_type": "code",
   "execution_count": 18,
   "metadata": {},
   "outputs": [
    {
     "name": "stdout",
     "output_type": "stream",
     "text": [
      "                            OLS Regression Results                            \n",
      "==============================================================================\n",
      "Dep. Variable:                      y   R-squared:                       0.132\n",
      "Model:                            OLS   Adj. R-squared:                  0.132\n",
      "Method:                 Least Squares   F-statistic:                     6805.\n",
      "Date:                Tue, 26 Mar 2019   Prob (F-statistic):               0.00\n",
      "Time:                        06:14:35   Log-Likelihood:            -3.9761e+06\n",
      "No. Observations:              403182   AIC:                         7.952e+06\n",
      "Df Residuals:                  403172   BIC:                         7.952e+06\n",
      "Df Model:                           9                                         \n",
      "Covariance Type:            nonrobust                                         \n",
      "==============================================================================\n",
      "                 coef    std err          t      P>|t|      [0.025      0.975]\n",
      "------------------------------------------------------------------------------\n",
      "const        1.04e+04     29.979    346.950      0.000    1.03e+04    1.05e+04\n",
      "x1          -465.9564     17.129    -27.203      0.000    -499.529    -432.384\n",
      "x2            -1.7734      4.175     -0.425      0.671      -9.955       6.409\n",
      "x3             9.3033      1.130      8.234      0.000       7.089      11.518\n",
      "x4            24.0329      8.963      2.681      0.007       6.466      41.600\n",
      "x5           -18.6329      5.484     -3.398      0.001     -29.380      -7.885\n",
      "x6            55.6407     14.929      3.727      0.000      26.381      84.900\n",
      "x7          -317.5944      2.119   -149.873      0.000    -321.748    -313.441\n",
      "x8            10.0700      1.182      8.522      0.000       7.754      12.386\n",
      "x9           149.4943      1.270    117.669      0.000     147.004     151.984\n",
      "==============================================================================\n",
      "Omnibus:                    38260.357   Durbin-Watson:                   1.994\n",
      "Prob(Omnibus):                  0.000   Jarque-Bera (JB):            51267.492\n",
      "Skew:                           0.797   Prob(JB):                         0.00\n",
      "Kurtosis:                       3.713   Cond. No.                         60.1\n",
      "==============================================================================\n",
      "\n",
      "Warnings:\n",
      "[1] Standard Errors assume that the covariance matrix of the errors is correctly specified.\n"
     ]
    }
   ],
   "source": [
    "print(fit1.summary())"
   ]
  },
  {
   "cell_type": "markdown",
   "metadata": {},
   "source": [
    "Below we plot the fitted values vs residuals to get an idea of the variance of the residuals. Generally it a good rule of thumb\n",
    "to follow is between -3 to 3. Here we see that most of the points are way out side that range indicating sigificant issues to the constant variance assumption."
   ]
  },
  {
   "cell_type": "code",
   "execution_count": 19,
   "metadata": {},
   "outputs": [
    {
     "data": {
      "image/png": "[encoded data removed]",
      "text/plain": [
       "<Figure size 432x288 with 1 Axes>"
      ]
     },
     "metadata": {
      "needs_background": "light"
     },
     "output_type": "display_data"
    }
   ],
   "source": [
    "plt.scatter(fit1.fittedvalues,fit1.resid)\n",
    "plt.axhline(y=0)\n",
    "plt.show()"
   ]
  },
  {
   "cell_type": "markdown",
   "metadata": {},
   "source": [
    "Here we use a different class to fit the model  or the **ols()** class which is the lower case version of the **Ols()** used above. This class allows the user to use **R** type notation to fit the model which is much easier to use in more complex models. Note that we use **C()** to represent the categorical variables in the model.  Here we see that the $R^2$ value has increased and the overall fit is significant. We will investigate later using foward selection and backward elimination techinques for variable selection as some are not significant. These can be dropped to simplify the model and lead to a better fit. This will be implemented outside direct use of a module.  "
   ]
  },
  {
   "cell_type": "code",
   "execution_count": 20,
   "metadata": {},
   "outputs": [
    {
     "name": "stdout",
     "output_type": "stream",
     "text": [
      "                            OLS Regression Results                            \n",
      "==============================================================================\n",
      "Dep. Variable:               Purchase   R-squared:                       0.639\n",
      "Model:                            OLS   Adj. R-squared:                  0.639\n",
      "Method:                 Least Squares   F-statistic:                     8587.\n",
      "Date:                Tue, 26 Mar 2019   Prob (F-statistic):               0.00\n",
      "Time:                        06:14:50   Log-Likelihood:            -3.7997e+06\n",
      "No. Observations:              403182   AIC:                         7.599e+06\n",
      "Df Residuals:                  403098   BIC:                         7.600e+06\n",
      "Df Model:                          83                                         \n",
      "Covariance Type:            nonrobust                                         \n",
      "=======================================================================================================\n",
      "                                          coef    std err          t      P>|t|      [0.025      0.975]\n",
      "-------------------------------------------------------------------------------------------------------\n",
      "Intercept                            1.319e+04     52.087    253.208      0.000    1.31e+04    1.33e+04\n",
      "C(City_Category)[T.B]                 129.9709     11.792     11.022      0.000     106.858     153.084\n",
      "C(City_Category)[T.C]                 538.4200     12.814     42.018      0.000     513.305     563.535\n",
      "C(Gender)[T.1]                         67.4793     11.532      5.852      0.000      44.877      90.081\n",
      "C(Age)[T.18-25]                      -197.4373     47.369     -4.168      0.000    -290.278    -104.596\n",
      "C(Age)[T.26-35]                      -118.9626     47.200     -2.520      0.012    -211.473     -26.452\n",
      "C(Age)[T.36-45]                         3.6389     47.880      0.076      0.939     -90.205      97.482\n",
      "C(Age)[T.46-50]                        11.7299     50.017      0.235      0.815     -86.302     109.762\n",
      "C(Age)[T.51-55]                       235.6447     50.582      4.659      0.000     136.505     334.785\n",
      "C(Age)[T.55+]                         109.6004     53.618      2.044      0.041       4.510     214.691\n",
      "C(Occupation)[T.1]                    -30.8637     21.110     -1.462      0.144     -72.240      10.512\n",
      "C(Occupation)[T.2]                     55.6942     25.356      2.197      0.028       5.998     105.390\n",
      "C(Occupation)[T.3]                    243.7494     29.547      8.249      0.000     185.837     301.661\n",
      "C(Occupation)[T.4]                    165.0737     20.158      8.189      0.000     125.564     204.584\n",
      "C(Occupation)[T.5]                     42.1430     34.408      1.225      0.221     -25.295     109.581\n",
      "C(Occupation)[T.6]                    211.1475     28.215      7.484      0.000     155.847     266.448\n",
      "C(Occupation)[T.7]                    116.7784     19.783      5.903      0.000      78.004     155.553\n",
      "C(Occupation)[T.8]                   -369.8395     91.134     -4.058      0.000    -548.459    -191.220\n",
      "C(Occupation)[T.9]                    106.6464     46.958      2.271      0.023      14.609     198.684\n",
      "C(Occupation)[T.10]                   -50.0357     50.914     -0.983      0.326    -149.826      49.755\n",
      "C(Occupation)[T.11]                   112.4685     35.277      3.188      0.001      43.326     181.611\n",
      "C(Occupation)[T.12]                   296.1055     24.020     12.327      0.000     249.026     343.185\n",
      "C(Occupation)[T.13]                   105.3674     45.206      2.331      0.020      16.766     193.969\n",
      "C(Occupation)[T.14]                   184.2701     25.124      7.335      0.000     135.028     233.512\n",
      "C(Occupation)[T.15]                   374.6910     34.498     10.861      0.000     307.076     442.306\n",
      "C(Occupation)[T.16]                   128.5333     25.920      4.959      0.000      77.731     179.336\n",
      "C(Occupation)[T.17]                   191.1339     22.203      8.608      0.000     147.616     234.652\n",
      "C(Occupation)[T.18]                    -8.5640     45.075     -0.190      0.849     -96.910      79.782\n",
      "C(Occupation)[T.19]                  -254.8034     40.236     -6.333      0.000    -333.664    -175.943\n",
      "C(Occupation)[T.20]                  -108.0463     23.375     -4.622      0.000    -153.861     -62.232\n",
      "C(Marital_Status)[T.1]                -52.1695     10.274     -5.078      0.000     -72.306     -32.033\n",
      "C(Product_Category_1)[T.2]          -1746.9186     32.019    -54.559      0.000   -1809.675   -1684.162\n",
      "C(Product_Category_1)[T.3]          -2212.7765     44.527    -49.696      0.000   -2300.047   -2125.506\n",
      "C(Product_Category_1)[T.4]          -1.092e+04     39.877   -273.951      0.000    -1.1e+04   -1.08e+04\n",
      "C(Product_Category_1)[T.5]          -7275.5374     17.707   -410.874      0.000   -7310.244   -7240.831\n",
      "C(Product_Category_1)[T.6]           2128.5503     30.779     69.157      0.000    2068.225    2188.875\n",
      "C(Product_Category_1)[T.7]           2989.0032     59.352     50.360      0.000    2872.674    3105.332\n",
      "C(Product_Category_1)[T.8]          -6009.1543     18.854   -318.713      0.000   -6046.108   -5972.200\n",
      "C(Product_Category_1)[T.9]           2103.8774    171.361     12.277      0.000    1768.015    2439.740\n",
      "C(Product_Category_1)[T.10]          6238.6464     52.312    119.259      0.000    6136.117    6341.176\n",
      "C(Product_Category_1)[T.11]         -8711.9033     26.821   -324.813      0.000   -8764.472   -8659.334\n",
      "C(Product_Category_1)[T.12]         -1.215e+04     58.693   -207.062      0.000   -1.23e+04    -1.2e+04\n",
      "C(Product_Category_1)[T.13]         -1.275e+04     49.538   -257.359      0.000   -1.28e+04   -1.27e+04\n",
      "C(Product_Category_1)[T.14]          -256.2665     91.495     -2.801      0.005    -435.594     -76.939\n",
      "C(Product_Category_1)[T.15]          1198.0332     46.812     25.592      0.000    1106.283    1289.784\n",
      "C(Product_Category_1)[T.16]          1353.5246     39.429     34.328      0.000    1276.244    1430.805\n",
      "C(Product_Category_1)[T.17]         -3457.2687    145.864    -23.702      0.000   -3743.157   -3171.380\n",
      "C(Product_Category_1)[T.18]         -1.051e+04     65.335   -160.889      0.000   -1.06e+04   -1.04e+04\n",
      "C(Product_Category_2)[T.2]            116.4017     27.397      4.249      0.000      62.704     170.100\n",
      "C(Product_Category_2)[T.3]           1581.2562    101.432     15.589      0.000    1382.453    1780.060\n",
      "C(Product_Category_2)[T.4]          -1621.0717     45.740    -35.441      0.000   -1710.720   -1531.423\n",
      "C(Product_Category_2)[T.5]           -612.6870     32.654    -18.763      0.000    -676.688    -548.686\n",
      "C(Product_Category_2)[T.6]            135.6828     33.373      4.066      0.000      70.272     201.094\n",
      "C(Product_Category_2)[T.7]            718.2588    139.484      5.149      0.000     444.875     991.642\n",
      "C(Product_Category_2)[T.8]            326.5986     19.655     16.617      0.000     288.076     365.121\n",
      "C(Product_Category_2)[T.9]           -181.1661     49.480     -3.661      0.000    -278.146     -84.186\n",
      "C(Product_Category_2)[T.10]          1448.8285     72.945     19.862      0.000    1305.858    1591.799\n",
      "C(Product_Category_2)[T.11]          -229.4185     32.047     -7.159      0.000    -292.230    -166.607\n",
      "C(Product_Category_2)[T.12]          -423.2629     48.629     -8.704      0.000    -518.575    -327.951\n",
      "C(Product_Category_2)[T.13]          -135.9638     37.695     -3.607      0.000    -209.845     -62.082\n",
      "C(Product_Category_2)[T.14]          -135.7764     18.044     -7.525      0.000    -171.142    -100.411\n",
      "C(Product_Category_2)[T.15]          -166.4565     22.583     -7.371      0.000    -210.719    -122.194\n",
      "C(Product_Category_2)[T.16]            44.8640     20.861      2.151      0.032       3.976      85.752\n",
      "C(Product_Category_2)[T.17]           572.9732     31.814     18.010      0.000     510.619     635.328\n",
      "C(Product_Category_2)[T.18]           638.9124     67.188      9.509      0.000     507.225     770.600\n",
      "C(Product_Category_3)[T.3]            499.4024    143.120      3.489      0.000     218.891     779.913\n",
      "C(Product_Category_3)[T.4]          -3695.8031    106.769    -34.615      0.000   -3905.068   -3486.538\n",
      "C(Product_Category_3)[T.5]            558.9393     34.445     16.227      0.000     491.427     626.451\n",
      "C(Product_Category_3)[T.6]             32.9496     54.785      0.601      0.548     -74.428     140.327\n",
      "C(Product_Category_3)[T.8]           1616.0228     36.779     43.939      0.000    1543.937    1688.109\n",
      "C(Product_Category_3)[T.9]            348.2170     37.622      9.256      0.000     274.479     421.955\n",
      "C(Product_Category_3)[T.10]          -855.9024    102.115     -8.382      0.000   -1056.045    -655.760\n",
      "C(Product_Category_3)[T.11]          -526.0922     84.973     -6.191      0.000    -692.637    -359.547\n",
      "C(Product_Category_3)[T.12]           339.8309     41.269      8.235      0.000     258.946     420.716\n",
      "C(Product_Category_3)[T.13]          -746.5679     53.450    -13.968      0.000    -851.328    -641.808\n",
      "C(Product_Category_3)[T.14]           109.4970     28.812      3.800      0.000      53.026     165.968\n",
      "C(Product_Category_3)[T.15]          -431.6114     26.709    -16.160      0.000    -483.961    -379.262\n",
      "C(Product_Category_3)[T.16]            90.7615     23.139      3.922      0.000      45.409     136.114\n",
      "C(Product_Category_3)[T.17]          1030.4393     29.648     34.756      0.000     972.330    1088.548\n",
      "C(Product_Category_3)[T.18]           167.3909     53.677      3.119      0.002      62.186     272.595\n",
      "C(Stay_In_Current_City_Years)[T.1]     -1.6745     15.173     -0.110      0.912     -31.413      28.064\n",
      "C(Stay_In_Current_City_Years)[T.2]     46.2131     16.936      2.729      0.006      13.019      79.407\n",
      "C(Stay_In_Current_City_Years)[T.3]     -9.8193     17.227     -0.570      0.569     -43.583      23.945\n",
      "C(Stay_In_Current_City_Years)[T.4+]    25.2113     17.658      1.428      0.153      -9.397      59.820\n",
      "==============================================================================\n",
      "Omnibus:                    32209.078   Durbin-Watson:                   1.999\n",
      "Prob(Omnibus):                  0.000   Jarque-Bera (JB):            49873.038\n",
      "Skew:                          -0.627   Prob(JB):                         0.00\n",
      "Kurtosis:                       4.181   Cond. No.                         54.7\n",
      "==============================================================================\n",
      "\n",
      "Warnings:\n",
      "[1] Standard Errors assume that the covariance matrix of the errors is correctly specified.\n"
     ]
    }
   ],
   "source": [
    "indexes=np.random.choice(range(0, X.shape[0]),int(np.floor(X.shape[0]*.75)),replace=False)\n",
    "data_train=data.iloc[indexes,:]\n",
    "data_test=data[~data.index.isin(indexes)]\n",
    "fit2=smf.ols(\"Purchase~C(City_Category)+C(Gender)+C(Age)+C(Occupation)+C(Marital_Status)+C(Product_Category_1)+C(Product_Category_2)+C(Product_Category_3)+C(Stay_In_Current_City_Years)\",data=data_train)\n",
    "res=fit2.fit()\n",
    "print(res.summary())"
   ]
  },
  {
   "cell_type": "markdown",
   "metadata": {},
   "source": [
    "Now that we have recoded the variables lets fit a linear regression using all the variables. Below we show some of the several properties related to the model that we can get.  \n",
    "\n",
    "**`res.conf_int().head(5)`** - Shows the first 5 confidence intervals for the first 5 parameters in the fitted model. Returns a dataframe. <br>\n",
    "**`res.fittedvalues.head(5)`** - Shows the fitted values for the first 5 observations in dataset <br>\n",
    "**`res.resid.head()`** - Shows the residuals for the 1st few observations. <br>\n",
    "**Note** - There are many more properties that the fitted model has then is shown here."
   ]
  },
  {
   "cell_type": "code",
   "execution_count": 35,
   "metadata": {},
   "outputs": [
    {
     "name": "stdout",
     "output_type": "stream",
     "text": [
      "AIC for fit 2 is: 7599499.627410517\n",
      "\n",
      " Fitted Model CIs \n",
      "\n",
      "                                  0             1\n",
      "Intercept              13086.717392  13290.894726\n",
      "C(City_Category)[T.B]    106.858089    153.083804\n",
      "C(City_Category)[T.C]    513.304744    563.535174\n",
      "C(Gender)[T.1]            44.877114     90.081487\n",
      "C(Age)[T.18-25]         -290.278482   -104.596128\n",
      "\n",
      " Fitted Values \n",
      "\n",
      "94808      5765.488698\n",
      "282883     8016.650785\n",
      "362576     7924.264719\n",
      "283492     7409.974963\n",
      "327511    13474.368467\n",
      "dtype: float64\n",
      "\n",
      " Residuals \n",
      "\n",
      "94808     1268.511302\n",
      "282883    -181.650785\n",
      "362576     -51.264719\n",
      "283492     396.025037\n",
      "327511    2033.631533\n",
      "dtype: float64\n"
     ]
    }
   ],
   "source": [
    "print(\"AIC for fit 2 is: {0}\".format(res.aic))\n",
    "print(\"\\n Fitted Model CIs \\n\")\n",
    "print(res.conf_int().head(5))\n",
    "print(\"\\n Fitted Values \\n\")\n",
    "print(res.fittedvalues.head(5))\n",
    "print(\"\\n Residuals \\n\")\n",
    "print(res.resid.head())"
   ]
  },
  {
   "cell_type": "markdown",
   "metadata": {},
   "source": [
    "### 6. Communicate, Visualize, Report Building"
   ]
  },
  {
   "cell_type": "markdown",
   "metadata": {},
   "source": [
    "This is the last step in the project where we display our results. We can take this notebook and save it as a pdf and present it. The final model is given below along with the specifications. "
   ]
  }
 ],
 "metadata": {
  "kernelspec": {
   "display_name": "Python 3",
   "language": "python",
   "name": "python3"
  },
  "language_info": {
   "codemirror_mode": {
    "name": "ipython",
    "version": 3
   },
   "file_extension": ".py",
   "mimetype": "text/x-python",
   "name": "python",
   "nbconvert_exporter": "python",
   "pygments_lexer": "ipython3",
   "version": "3.7.1"
  }
 },
 "nbformat": 4,
 "nbformat_minor": 2
}
