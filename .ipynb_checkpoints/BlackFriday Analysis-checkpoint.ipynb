{
 "cells": [
  {
   "cell_type": "markdown",
   "metadata": {},
   "source": [
    "## BlackFriday Dataset Analysis"
   ]
  },
  {
   "cell_type": "code",
   "execution_count": 1,
   "metadata": {},
   "outputs": [],
   "source": [
    "%matplotlib inline\n",
    "import numpy as np\n",
    "import scipy as sp\n",
    "import matplotlib as mpl\n",
    "import matplotlib.cm as cm\n",
    "import matplotlib.pyplot as plt\n",
    "import pandas as pd\n",
    "import time\n",
    "import sqlite3 as sql\n",
    "import re\n",
    "pd.set_option('display.width', 500)\n",
    "pd.set_option('display.max_columns', 100)\n",
    "pd.set_option('display.notebook_repr_html', True)\n",
    "import seaborn as sns\n",
    "from IPython.display import Image"
   ]
  },
  {
   "cell_type": "markdown",
   "metadata": {},
   "source": [
    "<img src=\"workflow.jpg?2\" width=\"750\" height=\"650\" align=\"center\"/>"
   ]
  },
  {
   "cell_type": "markdown",
   "metadata": {},
   "source": [
    "In the above diagram, I outline the data science process in general. Ideally, we start with **Step 0** which is identifying and framing a business decision problem. From here I'll define the rest of the steps \n",
    "\n",
    " **1. Data is Collected** - Here we identify the data elements that should be collected to solve the business problem. Here we also consider the amount of time to collect the data, how much data is needed to make your experiment impactful, costs, benefits vs. cons. We should identify all the needed data before moving on and have a good understanding of the different data sources involved. \n",
    " \n",
    " **2. Data is Processed** - Here we prepare the data and get into a format that can be used for further analysis. This step normally takes the longest as the data source(s) maybe in different formats. For example, you may have data from a legacy system stored in 20 different tables while you have data coming from a non-relational database.\n",
    " \n",
    " **3. Clean the Data Set** - This is where we start to identify missing values, duplicates, outliers, and other things that would affect the data quality. Just note that we should simply not delete the data without doing further research as that data may contain some value information. \n",
    " \n",
    " **4. EDA** - This is also called exploratory data analysis. Here we create different plots and summarizations to identify patterns within the data. Just note if there are further issues identified within the data then we go back to **step 2**.\n",
    "\n",
    " **5. Model Building** - This step we fit appropriate models based on business problem and it is experimental meaning that there is no right way to go about this. While there are clear things you should not do such as introducing selection bias into your sample, no single model is correct. Just remember that all models are bad but there some better than others. \n",
    " \n",
    " **6. Communicate, Visualize, Report Building** - Here we formulate our analysis from the prior steps into something that is presentable and is clear. It should be straight to the point while taking the audience into heavy consideration. Your analysis will be used to help drive a business decision.\n",
    " \n",
    "I will be using this as a template for the rest of my analysis below.\n"
   ]
  },
  {
   "cell_type": "markdown",
   "metadata": {},
   "source": [
    "### Business Problem"
   ]
  },
  {
   "cell_type": "markdown",
   "metadata": {},
   "source": [
    "We will be using **Black Friday** dataset from Kaggle and the link is  <a href=\"https://www.kaggle.com/mehdidag/black-friday\"> here</a> . Basically we are going to predict how much a customer will purchase based on prior purchase history. We will also use clustering and other methods to see if we can gain more insight about different customer groups. "
   ]
  },
  {
   "cell_type": "markdown",
   "metadata": {},
   "source": [
    "### 1.Data Collection"
   ]
  },
  {
   "cell_type": "markdown",
   "metadata": {},
   "source": [
    "Since this dataset was already collected for us, we will list the data elements and descriptions below. \n",
    "\n",
    "\n",
    "|Name|Type|Description|\n",
    "|---|---|---|\n",
    "|User_ID |Id| User | \n",
    "|Product_ID | Id |  Product |\n",
    "|Gender| Boolean| N/A   |\n",
    "|Age| Age| Age of Customer |\n",
    "|Occupation| Id |Occupation of each customer|\n",
    "|City_Category | Category | N/A\n",
    "|Stay_In_Current_City_Years | Integer | N/A\n",
    "|Marital_Status|Category | N/A\n",
    "|Product_Category_1| Category | N/A\n",
    "|Product_Category_2| Category | N/A\n",
    "|Product_Category_3| Category | N/A\n",
    "|Purchase| Float| Purchase amount in dollar ( Target)\n",
    "\n",
    "**Note 1** - Purchase is the dependent variable. "
   ]
  },
  {
   "cell_type": "markdown",
   "metadata": {},
   "source": [
    " ### 2.Data is Processed "
   ]
  },
  {
   "cell_type": "markdown",
   "metadata": {},
   "source": [
    "Here the data is already in a format we want to analyze."
   ]
  },
  {
   "cell_type": "markdown",
   "metadata": {},
   "source": [
    "### 3. Clean the dataset"
   ]
  },
  {
   "cell_type": "markdown",
   "metadata": {},
   "source": [
    "Here we check for missing values, outliers, etc.  The first thing we'll do is read in the data and print out the first few rows of the data. \n",
    "\n",
    "`data.head(n=5): ` This prints out the first 5 rows of the data"
   ]
  },
  {
   "cell_type": "code",
   "execution_count": 2,
   "metadata": {
    "scrolled": false
   },
   "outputs": [
    {
     "data": {
      "text/html": [
       "<div>\n",
       "<style scoped>\n",
       "    .dataframe tbody tr th:only-of-type {\n",
       "        vertical-align: middle;\n",
       "    }\n",
       "\n",
       "    .dataframe tbody tr th {\n",
       "        vertical-align: top;\n",
       "    }\n",
       "\n",
       "    .dataframe thead th {\n",
       "        text-align: right;\n",
       "    }\n",
       "</style>\n",
       "<table border=\"1\" class=\"dataframe\">\n",
       "  <thead>\n",
       "    <tr style=\"text-align: right;\">\n",
       "      <th></th>\n",
       "      <th>User_ID</th>\n",
       "      <th>Product_ID</th>\n",
       "      <th>Gender</th>\n",
       "      <th>Age</th>\n",
       "      <th>Occupation</th>\n",
       "      <th>City_Category</th>\n",
       "      <th>Stay_In_Current_City_Years</th>\n",
       "      <th>Marital_Status</th>\n",
       "      <th>Product_Category_1</th>\n",
       "      <th>Product_Category_2</th>\n",
       "      <th>Product_Category_3</th>\n",
       "      <th>Purchase</th>\n",
       "    </tr>\n",
       "  </thead>\n",
       "  <tbody>\n",
       "    <tr>\n",
       "      <th>0</th>\n",
       "      <td>1000001</td>\n",
       "      <td>P00069042</td>\n",
       "      <td>F</td>\n",
       "      <td>0-17</td>\n",
       "      <td>10</td>\n",
       "      <td>A</td>\n",
       "      <td>2</td>\n",
       "      <td>0</td>\n",
       "      <td>3</td>\n",
       "      <td>NaN</td>\n",
       "      <td>NaN</td>\n",
       "      <td>8370</td>\n",
       "    </tr>\n",
       "    <tr>\n",
       "      <th>1</th>\n",
       "      <td>1000001</td>\n",
       "      <td>P00248942</td>\n",
       "      <td>F</td>\n",
       "      <td>0-17</td>\n",
       "      <td>10</td>\n",
       "      <td>A</td>\n",
       "      <td>2</td>\n",
       "      <td>0</td>\n",
       "      <td>1</td>\n",
       "      <td>6.0</td>\n",
       "      <td>14.0</td>\n",
       "      <td>15200</td>\n",
       "    </tr>\n",
       "    <tr>\n",
       "      <th>2</th>\n",
       "      <td>1000001</td>\n",
       "      <td>P00087842</td>\n",
       "      <td>F</td>\n",
       "      <td>0-17</td>\n",
       "      <td>10</td>\n",
       "      <td>A</td>\n",
       "      <td>2</td>\n",
       "      <td>0</td>\n",
       "      <td>12</td>\n",
       "      <td>NaN</td>\n",
       "      <td>NaN</td>\n",
       "      <td>1422</td>\n",
       "    </tr>\n",
       "    <tr>\n",
       "      <th>3</th>\n",
       "      <td>1000001</td>\n",
       "      <td>P00085442</td>\n",
       "      <td>F</td>\n",
       "      <td>0-17</td>\n",
       "      <td>10</td>\n",
       "      <td>A</td>\n",
       "      <td>2</td>\n",
       "      <td>0</td>\n",
       "      <td>12</td>\n",
       "      <td>14.0</td>\n",
       "      <td>NaN</td>\n",
       "      <td>1057</td>\n",
       "    </tr>\n",
       "    <tr>\n",
       "      <th>4</th>\n",
       "      <td>1000002</td>\n",
       "      <td>P00285442</td>\n",
       "      <td>M</td>\n",
       "      <td>55+</td>\n",
       "      <td>16</td>\n",
       "      <td>C</td>\n",
       "      <td>4+</td>\n",
       "      <td>0</td>\n",
       "      <td>8</td>\n",
       "      <td>NaN</td>\n",
       "      <td>NaN</td>\n",
       "      <td>7969</td>\n",
       "    </tr>\n",
       "  </tbody>\n",
       "</table>\n",
       "</div>"
      ],
      "text/plain": [
       "   User_ID Product_ID Gender   Age  Occupation City_Category Stay_In_Current_City_Years  Marital_Status  Product_Category_1  Product_Category_2  Product_Category_3  Purchase\n",
       "0  1000001  P00069042      F  0-17          10             A                          2               0                   3                 NaN                 NaN      8370\n",
       "1  1000001  P00248942      F  0-17          10             A                          2               0                   1                 6.0                14.0     15200\n",
       "2  1000001  P00087842      F  0-17          10             A                          2               0                  12                 NaN                 NaN      1422\n",
       "3  1000001  P00085442      F  0-17          10             A                          2               0                  12                14.0                 NaN      1057\n",
       "4  1000002  P00285442      M   55+          16             C                         4+               0                   8                 NaN                 NaN      7969"
      ]
     },
     "execution_count": 2,
     "metadata": {},
     "output_type": "execute_result"
    }
   ],
   "source": [
    "data=pd.read_csv(\"BlackFriday.csv\",header=0)\n",
    "data.head(n=5)"
   ]
  },
  {
   "cell_type": "markdown",
   "metadata": {},
   "source": [
    "We already see in the first few rows that there are missing values. Let's see how much there is by looping each column and printing out the results by column.\n",
    "\n",
    "**`sum(data[i].isnull())`** - This will add up the trues which is essentially represented as a 1 in programming. <br> \n",
    "**`data.shape`** - Returns a tuple of dimensions for the dataframe"
   ]
  },
  {
   "cell_type": "code",
   "execution_count": 3,
   "metadata": {},
   "outputs": [
    {
     "name": "stdout",
     "output_type": "stream",
     "text": [
      "In Column User_ID there are 0.0% missing values\n",
      "In Column Product_ID there are 0.0% missing values\n",
      "In Column Gender there are 0.0% missing values\n",
      "In Column Age there are 0.0% missing values\n",
      "In Column Occupation there are 0.0% missing values\n",
      "In Column City_Category there are 0.0% missing values\n",
      "In Column Stay_In_Current_City_Years there are 0.0% missing values\n",
      "In Column Marital_Status there are 0.0% missing values\n",
      "In Column Product_Category_1 there are 0.0% missing values\n",
      "In Column Product_Category_2 there are 31.1% missing values\n",
      "In Column Product_Category_3 there are 69.4% missing values\n",
      "In Column Purchase there are 0.0% missing values\n"
     ]
    }
   ],
   "source": [
    "for i in data.columns:\n",
    "    print(\"In Column {0} there are {1:.1f}% missing values\".format(i, sum(data[i].isnull())/data.shape[0]*100)) "
   ]
  },
  {
   "cell_type": "markdown",
   "metadata": {},
   "source": [
    "In the print out above, we have some missing values especially with `Product_Category_2` and `Product_Category_3`. We will try to replace the missing values with a 0 since they are categorical. Also we will ensure that the column datatypes are accurate, as pandas does its best to guess the datatype and sometimes chooses the incorrect one. \n",
    "\n",
    "**`data.fillna(0,inplace=True)`** - Here replace all missing values with 0 and use inplace=True to return a copy of the same object. <br>\n",
    "**`data.dtypes`** - This returns an series of the datatypes by column."
   ]
  },
  {
   "cell_type": "code",
   "execution_count": 4,
   "metadata": {},
   "outputs": [
    {
     "data": {
      "text/html": [
       "<div>\n",
       "<style scoped>\n",
       "    .dataframe tbody tr th:only-of-type {\n",
       "        vertical-align: middle;\n",
       "    }\n",
       "\n",
       "    .dataframe tbody tr th {\n",
       "        vertical-align: top;\n",
       "    }\n",
       "\n",
       "    .dataframe thead th {\n",
       "        text-align: right;\n",
       "    }\n",
       "</style>\n",
       "<table border=\"1\" class=\"dataframe\">\n",
       "  <thead>\n",
       "    <tr style=\"text-align: right;\">\n",
       "      <th></th>\n",
       "      <th>User_ID</th>\n",
       "      <th>Product_ID</th>\n",
       "      <th>Gender</th>\n",
       "      <th>Age</th>\n",
       "      <th>Occupation</th>\n",
       "      <th>City_Category</th>\n",
       "      <th>Stay_In_Current_City_Years</th>\n",
       "      <th>Marital_Status</th>\n",
       "      <th>Product_Category_1</th>\n",
       "      <th>Product_Category_2</th>\n",
       "      <th>Product_Category_3</th>\n",
       "      <th>Purchase</th>\n",
       "    </tr>\n",
       "  </thead>\n",
       "  <tbody>\n",
       "    <tr>\n",
       "      <th>0</th>\n",
       "      <td>1000001</td>\n",
       "      <td>P00069042</td>\n",
       "      <td>F</td>\n",
       "      <td>0-17</td>\n",
       "      <td>10</td>\n",
       "      <td>A</td>\n",
       "      <td>2</td>\n",
       "      <td>0</td>\n",
       "      <td>3</td>\n",
       "      <td>0.0</td>\n",
       "      <td>0.0</td>\n",
       "      <td>8370</td>\n",
       "    </tr>\n",
       "    <tr>\n",
       "      <th>1</th>\n",
       "      <td>1000001</td>\n",
       "      <td>P00248942</td>\n",
       "      <td>F</td>\n",
       "      <td>0-17</td>\n",
       "      <td>10</td>\n",
       "      <td>A</td>\n",
       "      <td>2</td>\n",
       "      <td>0</td>\n",
       "      <td>1</td>\n",
       "      <td>6.0</td>\n",
       "      <td>14.0</td>\n",
       "      <td>15200</td>\n",
       "    </tr>\n",
       "    <tr>\n",
       "      <th>2</th>\n",
       "      <td>1000001</td>\n",
       "      <td>P00087842</td>\n",
       "      <td>F</td>\n",
       "      <td>0-17</td>\n",
       "      <td>10</td>\n",
       "      <td>A</td>\n",
       "      <td>2</td>\n",
       "      <td>0</td>\n",
       "      <td>12</td>\n",
       "      <td>0.0</td>\n",
       "      <td>0.0</td>\n",
       "      <td>1422</td>\n",
       "    </tr>\n",
       "    <tr>\n",
       "      <th>3</th>\n",
       "      <td>1000001</td>\n",
       "      <td>P00085442</td>\n",
       "      <td>F</td>\n",
       "      <td>0-17</td>\n",
       "      <td>10</td>\n",
       "      <td>A</td>\n",
       "      <td>2</td>\n",
       "      <td>0</td>\n",
       "      <td>12</td>\n",
       "      <td>14.0</td>\n",
       "      <td>0.0</td>\n",
       "      <td>1057</td>\n",
       "    </tr>\n",
       "    <tr>\n",
       "      <th>4</th>\n",
       "      <td>1000002</td>\n",
       "      <td>P00285442</td>\n",
       "      <td>M</td>\n",
       "      <td>55+</td>\n",
       "      <td>16</td>\n",
       "      <td>C</td>\n",
       "      <td>4+</td>\n",
       "      <td>0</td>\n",
       "      <td>8</td>\n",
       "      <td>0.0</td>\n",
       "      <td>0.0</td>\n",
       "      <td>7969</td>\n",
       "    </tr>\n",
       "  </tbody>\n",
       "</table>\n",
       "</div>"
      ],
      "text/plain": [
       "   User_ID Product_ID Gender   Age  Occupation City_Category Stay_In_Current_City_Years  Marital_Status  Product_Category_1  Product_Category_2  Product_Category_3  Purchase\n",
       "0  1000001  P00069042      F  0-17          10             A                          2               0                   3                 0.0                 0.0      8370\n",
       "1  1000001  P00248942      F  0-17          10             A                          2               0                   1                 6.0                14.0     15200\n",
       "2  1000001  P00087842      F  0-17          10             A                          2               0                  12                 0.0                 0.0      1422\n",
       "3  1000001  P00085442      F  0-17          10             A                          2               0                  12                14.0                 0.0      1057\n",
       "4  1000002  P00285442      M   55+          16             C                         4+               0                   8                 0.0                 0.0      7969"
      ]
     },
     "execution_count": 4,
     "metadata": {},
     "output_type": "execute_result"
    }
   ],
   "source": [
    "data.fillna(0,inplace=True)\n",
    "data.head(5)"
   ]
  },
  {
   "cell_type": "code",
   "execution_count": 5,
   "metadata": {},
   "outputs": [
    {
     "data": {
      "text/plain": [
       "User_ID                        int64\n",
       "Product_ID                    object\n",
       "Gender                         int64\n",
       "Age                           object\n",
       "Occupation                     int64\n",
       "City_Category                 object\n",
       "Stay_In_Current_City_Years    object\n",
       "Marital_Status                 int64\n",
       "Product_Category_1             int64\n",
       "Product_Category_2             int64\n",
       "Product_Category_3             int64\n",
       "Purchase                       int64\n",
       "dtype: object"
      ]
     },
     "execution_count": 5,
     "metadata": {},
     "output_type": "execute_result"
    }
   ],
   "source": [
    "data.dtypes\n",
    "data[\"Product_Category_2\"]=data[\"Product_Category_2\"].astype(\"int64\",copy=True)\n",
    "data[\"Product_Category_3\"]=data[\"Product_Category_3\"].astype(\"int64\",copy=True)\n",
    "data[\"Gender\"]=data[\"Gender\"].map({\"M\":0,\"F\":1})\n",
    "data.dtypes"
   ]
  },
  {
   "cell_type": "markdown",
   "metadata": {},
   "source": [
    "In terms of duplicates we'll have to assume that each transaction even though the same transaction is entirely possible. And outliers we can see how many observations fall outside $(Q_1-1.5*IQR, Q_3+1.5*IQR )$ where $Q_1$ is the 1st quartile and $Q_3$ is the 3rd quartile. This only works for numerical datatypes only. "
   ]
  },
  {
   "cell_type": "code",
   "execution_count": 6,
   "metadata": {},
   "outputs": [
    {
     "name": "stdout",
     "output_type": "stream",
     "text": [
      "There are 0         0\n",
      "1         0\n",
      "2         0\n",
      "3         0\n",
      "4         0\n",
      "5         0\n",
      "6         0\n",
      "7         0\n",
      "8         0\n",
      "9         0\n",
      "10        0\n",
      "11        0\n",
      "12        0\n",
      "13        0\n",
      "14        0\n",
      "15        0\n",
      "16        0\n",
      "17        0\n",
      "18        0\n",
      "19        0\n",
      "20        0\n",
      "21        0\n",
      "22        0\n",
      "23        0\n",
      "24        0\n",
      "25        0\n",
      "26        0\n",
      "27        0\n",
      "28        0\n",
      "29        0\n",
      "         ..\n",
      "537547    0\n",
      "537548    0\n",
      "537549    0\n",
      "537550    0\n",
      "537551    0\n",
      "537552    0\n",
      "537553    0\n",
      "537554    0\n",
      "537555    0\n",
      "537556    0\n",
      "537557    0\n",
      "537558    0\n",
      "537559    0\n",
      "537560    0\n",
      "537561    0\n",
      "537562    0\n",
      "537563    0\n",
      "537564    0\n",
      "537565    0\n",
      "537566    0\n",
      "537567    0\n",
      "537568    0\n",
      "537569    0\n",
      "537570    0\n",
      "537571    0\n",
      "537572    0\n",
      "537573    0\n",
      "537574    0\n",
      "537575    0\n",
      "537576    0\n",
      "Name: Purchase, Length: 537577, dtype: int64 potential outliers in column Purchase\n"
     ]
    },
    {
     "data": {
      "text/plain": [
       "473250    21384\n",
       "114794    21384\n",
       "133756    21385\n",
       "509539    21386\n",
       "503699    21386\n",
       "241285    21386\n",
       "Name: Purchase, dtype: int64"
      ]
     },
     "execution_count": 6,
     "metadata": {},
     "output_type": "execute_result"
    }
   ],
   "source": [
    "def outlier(x,lower_bd, upper_bd):\n",
    "    if x>=lower_bd and x<=upper_bd:\n",
    "        return 0 \n",
    "    else:\n",
    "        return 1\n",
    "IQR=data[\"Purchase\"].quantile(q=.75)-data[\"Purchase\"].quantile(q=.25)\n",
    "lower_bd=data[\"Purchase\"].quantile(q=.25)-1.5*IQR\n",
    "upper_bd=data[\"Purchase\"].quantile(q=.75)+1.5*IQR\n",
    "selection=data[\"Purchase\"].apply(lambda x: outlier(x,lower_bd,upper_bd))\n",
    "print(\"There are {0} potential outliers in column {1}\".format(selection,\"Purchase\"))\n",
    "data[\"Purchase\"][selection==1].sort_values(ascending=True)[0:6]"
   ]
  },
  {
   "cell_type": "markdown",
   "metadata": {},
   "source": [
    " ### 4. EDA"
   ]
  },
  {
   "cell_type": "markdown",
   "metadata": {},
   "source": [
    "Now that the missing values are replaced, we'll start to explore the data. Pandas has a great function called `describe()` which will return the summary by column. \n",
    "\n",
    "Some observations here: \n",
    "1. The average purchase price is 9334 while the largest purchase is 23961. \n",
    "2. Roughly half the users are married."
   ]
  },
  {
   "cell_type": "code",
   "execution_count": 7,
   "metadata": {},
   "outputs": [
    {
     "data": {
      "text/html": [
       "<div>\n",
       "<style scoped>\n",
       "    .dataframe tbody tr th:only-of-type {\n",
       "        vertical-align: middle;\n",
       "    }\n",
       "\n",
       "    .dataframe tbody tr th {\n",
       "        vertical-align: top;\n",
       "    }\n",
       "\n",
       "    .dataframe thead th {\n",
       "        text-align: right;\n",
       "    }\n",
       "</style>\n",
       "<table border=\"1\" class=\"dataframe\">\n",
       "  <thead>\n",
       "    <tr style=\"text-align: right;\">\n",
       "      <th></th>\n",
       "      <th>User_ID</th>\n",
       "      <th>Gender</th>\n",
       "      <th>Occupation</th>\n",
       "      <th>Marital_Status</th>\n",
       "      <th>Product_Category_1</th>\n",
       "      <th>Product_Category_2</th>\n",
       "      <th>Product_Category_3</th>\n",
       "      <th>Purchase</th>\n",
       "    </tr>\n",
       "  </thead>\n",
       "  <tbody>\n",
       "    <tr>\n",
       "      <th>count</th>\n",
       "      <td>5.375770e+05</td>\n",
       "      <td>537577.000000</td>\n",
       "      <td>537577.00000</td>\n",
       "      <td>537577.000000</td>\n",
       "      <td>537577.000000</td>\n",
       "      <td>537577.000000</td>\n",
       "      <td>537577.000000</td>\n",
       "      <td>537577.000000</td>\n",
       "    </tr>\n",
       "    <tr>\n",
       "      <th>mean</th>\n",
       "      <td>1.002992e+06</td>\n",
       "      <td>0.245913</td>\n",
       "      <td>8.08271</td>\n",
       "      <td>0.408797</td>\n",
       "      <td>5.295546</td>\n",
       "      <td>6.784907</td>\n",
       "      <td>3.871773</td>\n",
       "      <td>9333.859853</td>\n",
       "    </tr>\n",
       "    <tr>\n",
       "      <th>std</th>\n",
       "      <td>1.714393e+03</td>\n",
       "      <td>0.430627</td>\n",
       "      <td>6.52412</td>\n",
       "      <td>0.491612</td>\n",
       "      <td>3.750701</td>\n",
       "      <td>6.211618</td>\n",
       "      <td>6.265963</td>\n",
       "      <td>4981.022133</td>\n",
       "    </tr>\n",
       "    <tr>\n",
       "      <th>min</th>\n",
       "      <td>1.000001e+06</td>\n",
       "      <td>0.000000</td>\n",
       "      <td>0.00000</td>\n",
       "      <td>0.000000</td>\n",
       "      <td>1.000000</td>\n",
       "      <td>0.000000</td>\n",
       "      <td>0.000000</td>\n",
       "      <td>185.000000</td>\n",
       "    </tr>\n",
       "    <tr>\n",
       "      <th>25%</th>\n",
       "      <td>1.001495e+06</td>\n",
       "      <td>0.000000</td>\n",
       "      <td>2.00000</td>\n",
       "      <td>0.000000</td>\n",
       "      <td>1.000000</td>\n",
       "      <td>0.000000</td>\n",
       "      <td>0.000000</td>\n",
       "      <td>5866.000000</td>\n",
       "    </tr>\n",
       "    <tr>\n",
       "      <th>50%</th>\n",
       "      <td>1.003031e+06</td>\n",
       "      <td>0.000000</td>\n",
       "      <td>7.00000</td>\n",
       "      <td>0.000000</td>\n",
       "      <td>5.000000</td>\n",
       "      <td>5.000000</td>\n",
       "      <td>0.000000</td>\n",
       "      <td>8062.000000</td>\n",
       "    </tr>\n",
       "    <tr>\n",
       "      <th>75%</th>\n",
       "      <td>1.004417e+06</td>\n",
       "      <td>0.000000</td>\n",
       "      <td>14.00000</td>\n",
       "      <td>1.000000</td>\n",
       "      <td>8.000000</td>\n",
       "      <td>14.000000</td>\n",
       "      <td>8.000000</td>\n",
       "      <td>12073.000000</td>\n",
       "    </tr>\n",
       "    <tr>\n",
       "      <th>max</th>\n",
       "      <td>1.006040e+06</td>\n",
       "      <td>1.000000</td>\n",
       "      <td>20.00000</td>\n",
       "      <td>1.000000</td>\n",
       "      <td>18.000000</td>\n",
       "      <td>18.000000</td>\n",
       "      <td>18.000000</td>\n",
       "      <td>23961.000000</td>\n",
       "    </tr>\n",
       "  </tbody>\n",
       "</table>\n",
       "</div>"
      ],
      "text/plain": [
       "            User_ID         Gender    Occupation  Marital_Status  Product_Category_1  Product_Category_2  Product_Category_3       Purchase\n",
       "count  5.375770e+05  537577.000000  537577.00000   537577.000000       537577.000000       537577.000000       537577.000000  537577.000000\n",
       "mean   1.002992e+06       0.245913       8.08271        0.408797            5.295546            6.784907            3.871773    9333.859853\n",
       "std    1.714393e+03       0.430627       6.52412        0.491612            3.750701            6.211618            6.265963    4981.022133\n",
       "min    1.000001e+06       0.000000       0.00000        0.000000            1.000000            0.000000            0.000000     185.000000\n",
       "25%    1.001495e+06       0.000000       2.00000        0.000000            1.000000            0.000000            0.000000    5866.000000\n",
       "50%    1.003031e+06       0.000000       7.00000        0.000000            5.000000            5.000000            0.000000    8062.000000\n",
       "75%    1.004417e+06       0.000000      14.00000        1.000000            8.000000           14.000000            8.000000   12073.000000\n",
       "max    1.006040e+06       1.000000      20.00000        1.000000           18.000000           18.000000           18.000000   23961.000000"
      ]
     },
     "execution_count": 7,
     "metadata": {},
     "output_type": "execute_result"
    }
   ],
   "source": [
    "data.describe()"
   ]
  },
  {
   "cell_type": "markdown",
   "metadata": {},
   "source": [
    "In the plot below, we first eliminate the duplicate users as some users are repeat buyers. From the bar plot below we see that that the male shoppers outnumber the female shoppers by more then twice. \n",
    "\n",
    "**Notes:** <br>\n",
    "**`data[[\"User_ID\",\"Gender\"]].drop_duplicates()[\"Gender\"]`** - We select the columns User_ID and Gender and drop the duplicates followed by selecting Gender which is last in the chain. <br> "
   ]
  },
  {
   "cell_type": "code",
   "execution_count": 8,
   "metadata": {},
   "outputs": [
    {
     "data": {
      "image/png": "[encoded data removed]",
      "text/plain": [
       "<Figure size 432x288 with 1 Axes>"
      ]
     },
     "metadata": {
      "needs_background": "light"
     },
     "output_type": "display_data"
    }
   ],
   "source": [
    "sns.countplot(data[[\"User_ID\",\"Gender\"]].drop_duplicates()[\"Gender\"], order=[0,1])\n",
    "plt.xticks([0,1],['M','F'])\n",
    "plt.title(\"Distribution of Customers by Gender\")\n",
    "plt.ylabel(\"Count\")\n",
    "plt.show()"
   ]
  },
  {
   "cell_type": "markdown",
   "metadata": {},
   "source": [
    "Below we see what the distribution of married couples are. The plot shows that more buyers are single then not. "
   ]
  },
  {
   "cell_type": "code",
   "execution_count": 9,
   "metadata": {},
   "outputs": [
    {
     "data": {
      "image/png": "[encoded data removed]",
      "text/plain": [
       "<Figure size 432x288 with 1 Axes>"
      ]
     },
     "metadata": {
      "needs_background": "light"
     },
     "output_type": "display_data"
    }
   ],
   "source": [
    "sns.countplot(data[[\"User_ID\",\"Marital_Status\"]].drop_duplicates()[\"Marital_Status\"], order=[0,1])\n",
    "plt.xticks([0,1],['Single','Married'])\n",
    "plt.title(\"Married Customer Distribution\")\n",
    "plt.ylabel(\"Count\")\n",
    "plt.show()"
   ]
  },
  {
   "cell_type": "markdown",
   "metadata": {},
   "source": [
    "Below we provide a summary of the total spent by males and females, and males spent roughly 3 times more the the females. "
   ]
  },
  {
   "cell_type": "code",
   "execution_count": 10,
   "metadata": {},
   "outputs": [
    {
     "data": {
      "text/html": [
       "<div>\n",
       "<style scoped>\n",
       "    .dataframe tbody tr th:only-of-type {\n",
       "        vertical-align: middle;\n",
       "    }\n",
       "\n",
       "    .dataframe tbody tr th {\n",
       "        vertical-align: top;\n",
       "    }\n",
       "\n",
       "    .dataframe thead th {\n",
       "        text-align: right;\n",
       "    }\n",
       "</style>\n",
       "<table border=\"1\" class=\"dataframe\">\n",
       "  <thead>\n",
       "    <tr style=\"text-align: right;\">\n",
       "      <th></th>\n",
       "      <th>Purchase</th>\n",
       "    </tr>\n",
       "    <tr>\n",
       "      <th>Gender</th>\n",
       "      <th></th>\n",
       "    </tr>\n",
       "  </thead>\n",
       "  <tbody>\n",
       "    <tr>\n",
       "      <th>0</th>\n",
       "      <td>3,853,044,357</td>\n",
       "    </tr>\n",
       "    <tr>\n",
       "      <th>1</th>\n",
       "      <td>1,164,624,021</td>\n",
       "    </tr>\n",
       "  </tbody>\n",
       "</table>\n",
       "</div>"
      ],
      "text/plain": [
       "             Purchase\n",
       "Gender               \n",
       "0       3,853,044,357\n",
       "1       1,164,624,021"
      ]
     },
     "execution_count": 10,
     "metadata": {},
     "output_type": "execute_result"
    }
   ],
   "source": [
    "smry_1=data[[\"Gender\",\"Purchase\"]].groupby(\"Gender\").sum()\n",
    "smry_1[\"Purchase\"]=smry_1[\"Purchase\"].apply(lambda x: \"{:,}\".format(x))\n",
    "smry_1"
   ]
  },
  {
   "cell_type": "code",
   "execution_count": 11,
   "metadata": {},
   "outputs": [
    {
     "data": {
      "image/png": "[encoded data removed]",
      "text/plain": [
       "<Figure size 432x288 with 1 Axes>"
      ]
     },
     "metadata": {
      "needs_background": "light"
     },
     "output_type": "display_data"
    }
   ],
   "source": [
    "smry_1=data[[\"Gender\",\"Purchase\"]].groupby(\"Gender\").sum()\n",
    "sns.barplot(y=smry_1.index,x=smry_1[\"Purchase\"]/1e9,orient=\"h\",palette=\"bright\")\n",
    "plt.yticks([0,1],[\"M\",\"F\"])\n",
    "plt.xlabel(\"Purchase in Billions\")\n",
    "plt.title(\"Total Purchase by Gender\")\n",
    "plt.show()"
   ]
  },
  {
   "cell_type": "markdown",
   "metadata": {},
   "source": [
    "Next plot we will take a look at is a barchart of the amount of purchases by city. We see that in city category B had the most of amount of purchase volume. \n",
    "\n",
    "**Syntax**\n",
    "\n",
    "**1.`sns.barplot(x=smry_2.index,y=smry_2[\"Purchase\"]/1e9)`** - specify the x and y dimension where y is numerical. We divide the purchase to get the purchase in billions. <br>\n",
    "\n",
    "**2.`smry_2[\"Purchase\"].apply(lambda x: \"{:,}\".format(x))`** This will format the totals to include comma's. However this changes the data type to a string. "
   ]
  },
  {
   "cell_type": "code",
   "execution_count": 58,
   "metadata": {},
   "outputs": [
    {
     "name": "stdout",
     "output_type": "stream",
     "text": [
      "City_Category\n",
      "A    1,295,668,797\n",
      "B    2,083,431,612\n",
      "C    1,638,567,969\n",
      "Name: Purchase, dtype: object\n"
     ]
    },
    {
     "data": {
      "image/png": "[encoded data removed]",
      "text/plain": [
       "<Figure size 432x288 with 1 Axes>"
      ]
     },
     "metadata": {
      "needs_background": "light"
     },
     "output_type": "display_data"
    }
   ],
   "source": [
    "smry_2=data[[\"City_Category\",\"Purchase\"]].groupby(\"City_Category\").sum()\n",
    "print(smry_2[\"Purchase\"].apply(lambda x: \"{:,}\".format(x)))\n",
    "\n",
    "sns.barplot(x=smry_2.index,y=smry_2[\"Purchase\"]/1e9)\n",
    "plt.ylim(0,max(smry_2[\"Purchase\"])/1e9+1)\n",
    "plt.ylabel(\"Purchase in billions\")\n",
    "plt.title(\"Purchase by City Category\")\n",
    "plt.show()"
   ]
  },
  {
   "cell_type": "code",
   "execution_count": 37,
   "metadata": {},
   "outputs": [
    {
     "data": {
      "text/html": [
       "<div>\n",
       "<style scoped>\n",
       "    .dataframe tbody tr th:only-of-type {\n",
       "        vertical-align: middle;\n",
       "    }\n",
       "\n",
       "    .dataframe tbody tr th {\n",
       "        vertical-align: top;\n",
       "    }\n",
       "\n",
       "    .dataframe thead th {\n",
       "        text-align: right;\n",
       "    }\n",
       "</style>\n",
       "<table border=\"1\" class=\"dataframe\">\n",
       "  <thead>\n",
       "    <tr style=\"text-align: right;\">\n",
       "      <th></th>\n",
       "      <th>City_Category</th>\n",
       "      <th>Gender</th>\n",
       "      <th>Purchase</th>\n",
       "    </tr>\n",
       "  </thead>\n",
       "  <tbody>\n",
       "    <tr>\n",
       "      <th>0</th>\n",
       "      <td>A</td>\n",
       "      <td>0</td>\n",
       "      <td>995257521</td>\n",
       "    </tr>\n",
       "    <tr>\n",
       "      <th>1</th>\n",
       "      <td>A</td>\n",
       "      <td>1</td>\n",
       "      <td>300411276</td>\n",
       "    </tr>\n",
       "    <tr>\n",
       "      <th>2</th>\n",
       "      <td>B</td>\n",
       "      <td>0</td>\n",
       "      <td>1598118861</td>\n",
       "    </tr>\n",
       "    <tr>\n",
       "      <th>3</th>\n",
       "      <td>B</td>\n",
       "      <td>1</td>\n",
       "      <td>485312751</td>\n",
       "    </tr>\n",
       "    <tr>\n",
       "      <th>4</th>\n",
       "      <td>C</td>\n",
       "      <td>0</td>\n",
       "      <td>1259667975</td>\n",
       "    </tr>\n",
       "    <tr>\n",
       "      <th>5</th>\n",
       "      <td>C</td>\n",
       "      <td>1</td>\n",
       "      <td>378899994</td>\n",
       "    </tr>\n",
       "  </tbody>\n",
       "</table>\n",
       "</div>"
      ],
      "text/plain": [
       "  City_Category  Gender    Purchase\n",
       "0             A       0   995257521\n",
       "1             A       1   300411276\n",
       "2             B       0  1598118861\n",
       "3             B       1   485312751\n",
       "4             C       0  1259667975\n",
       "5             C       1   378899994"
      ]
     },
     "execution_count": 37,
     "metadata": {},
     "output_type": "execute_result"
    }
   ],
   "source": [
    "smry_3=data[[\"City_Category\",\"Gender\",\"Purchase\"]].groupby([\"City_Category\",\"Gender\"]).sum()\n",
    "smry_3=smry_3.reset_index()\n",
    "smry_3"
   ]
  },
  {
   "cell_type": "markdown",
   "metadata": {},
   "source": [
    "Below we plot the amount in purchases by gender in each city category. Males have more purchase volume then the females while the purchase volume for females across city category remains fairly constant. \n",
    "\n",
    "**Syntax** <br>\n",
    "**`1. sns.barplot(x=smry_3.City_Category,y=smry_3.Purchase/1e9,hue=smry_3.Gender, palette=[\"blue\",\"gold\"])`** - Here we specify the x and y axis. The `hue` argument is what we split the purchases by which is gender. The `palette` argument specifies the bar colors by city. <br> \n",
    "\n",
    "**`2. ax = plt.gca()`** - Here we specify this to get the axis of the current plot. <br>\n",
    "\n",
    "**`3.leg.legendHandles[0].set_color('blue')`** - Here we specify the colors of each of the lines in the legend.  \n"
   ]
  },
  {
   "cell_type": "code",
   "execution_count": 59,
   "metadata": {},
   "outputs": [
    {
     "data": {
      "image/png": "[encoded data removed]",
      "text/plain": [
       "<Figure size 432x288 with 1 Axes>"
      ]
     },
     "metadata": {
      "needs_background": "light"
     },
     "output_type": "display_data"
    }
   ],
   "source": [
    "sns.barplot(x=smry_3.City_Category,y=smry_3.Purchase/1e9,hue=smry_3.Gender, palette=[\"blue\",\"gold\"])\n",
    "plt.legend(labels=[\"M\",\"F\"])\n",
    "plt.ylabel(\"Purchase in Billions\")\n",
    "plt.title(\"Purchase by City Category and Gender\")\n",
    "ax = plt.gca()\n",
    "leg = ax.get_legend()\n",
    "leg.legendHandles[0].set_color('blue')\n",
    "leg.legendHandles[1].set_color('gold')\n",
    "plt.show()"
   ]
  }
 ],
 "metadata": {
  "kernelspec": {
   "display_name": "Python 3",
   "language": "python",
   "name": "python3"
  },
  "language_info": {
   "codemirror_mode": {
    "name": "ipython",
    "version": 3
   },
   "file_extension": ".py",
   "mimetype": "text/x-python",
   "name": "python",
   "nbconvert_exporter": "python",
   "pygments_lexer": "ipython3",
   "version": "3.7.1"
  }
 },
 "nbformat": 4,
 "nbformat_minor": 2
}
