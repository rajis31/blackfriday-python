{
 "cells": [
  {
   "cell_type": "markdown",
   "metadata": {},
   "source": [
    "## BlackFriday Dataset Analysis"
   ]
  },
  {
   "cell_type": "code",
   "execution_count": 78,
   "metadata": {},
   "outputs": [],
   "source": [
    "%matplotlib inline\n",
    "import numpy as np\n",
    "import scipy as sp\n",
    "import matplotlib as mpl\n",
    "import matplotlib.cm as cm\n",
    "import matplotlib.pyplot as plt\n",
    "import pandas as pd\n",
    "import time\n",
    "import sqlite3 as sql\n",
    "import re\n",
    "pd.set_option('display.width', 500)\n",
    "pd.set_option('display.max_columns', 100)\n",
    "pd.set_option('display.notebook_repr_html', True)\n",
    "import seaborn as sns\n",
    "from IPython.display import Image\n",
    "import statsmodels.api as sm\n",
    "import statsmodels.formula.api as smf"
   ]
  },
  {
   "cell_type": "markdown",
   "metadata": {},
   "source": [
    "<img src=\"workflow.jpg?2\" width=\"750\" height=\"650\" align=\"center\"/>"
   ]
  },
  {
   "cell_type": "markdown",
   "metadata": {},
   "source": [
    "In the above diagram, I outline the data science process in general. Ideally, we start with **Step 0** which is identifying and framing a business decision problem. From here I'll define the rest of the steps \n",
    "\n",
    " **1. Data is Collected** - Here we identify the data elements that should be collected to solve the business problem. Here we also consider the amount of time to collect the data, how much data is needed to make your experiment impactful, costs, benefits vs. cons. We should identify all the needed data before moving on and have a good understanding of the different data sources involved. \n",
    " \n",
    " **2. Data is Processed** - Here we prepare the data and get into a format that can be used for further analysis. This step normally takes the longest as the data source(s) maybe in different formats. For example, you may have data from a legacy system stored in 20 different tables while you have data coming from a non-relational database.\n",
    " \n",
    " **3. Clean the Data Set** - This is where we start to identify missing values, duplicates, outliers, and other things that would affect the data quality. Just note that we should simply not delete the data without doing further research as that data may contain some value information. \n",
    " \n",
    " **4. EDA** - This is also called exploratory data analysis. Here we create different plots and summarizations to identify patterns within the data. Just note if there are further issues identified within the data then we go back to **step 2**.\n",
    "\n",
    " **5. Model Building** - This step we fit appropriate models based on business problem and it is experimental meaning that there is no right way to go about this. While there are clear things you should not do such as introducing selection bias into your sample, no single model is correct. Just remember that all models are bad but there some better than others. \n",
    " \n",
    " **6. Communicate, Visualize, Report Building** - Here we formulate our analysis from the prior steps into something that is presentable and is clear. It should be straight to the point while taking the audience into heavy consideration. Your analysis will be used to help drive a business decision.\n",
    " \n",
    "I will be using this as a template for the rest of my analysis below.\n"
   ]
  },
  {
   "cell_type": "markdown",
   "metadata": {},
   "source": [
    "### Business Problem"
   ]
  },
  {
   "cell_type": "markdown",
   "metadata": {},
   "source": [
    "We will be using **Black Friday** dataset from Kaggle and the link is  <a href=\"https://www.kaggle.com/mehdidag/black-friday\"> here</a> . Basically we are going to predict how much a customer will purchase based on prior purchase history. We will also use clustering and other methods to see if we can gain more insight about different customer groups. "
   ]
  },
  {
   "cell_type": "markdown",
   "metadata": {},
   "source": [
    "### 1.Data Collection"
   ]
  },
  {
   "cell_type": "markdown",
   "metadata": {},
   "source": [
    "Since this dataset was already collected for us, we will list the data elements and descriptions below. \n",
    "\n",
    "\n",
    "|Name|Type|Description|\n",
    "|---|---|---|\n",
    "|User_ID |Id| User | \n",
    "|Product_ID | Id |  Product |\n",
    "|Gender| Boolean| N/A   |\n",
    "|Age| Age| Age of Customer |\n",
    "|Occupation| Id |Occupation of each customer|\n",
    "|City_Category | Category | N/A\n",
    "|Stay_In_Current_City_Years | Integer | N/A\n",
    "|Marital_Status|Category | N/A\n",
    "|Product_Category_1| Category | N/A\n",
    "|Product_Category_2| Category | N/A\n",
    "|Product_Category_3| Category | N/A\n",
    "|Purchase| Float| Purchase amount in dollar ( Target)\n",
    "\n",
    "**Note 1** - Purchase is the dependent variable. "
   ]
  },
  {
   "cell_type": "markdown",
   "metadata": {},
   "source": [
    " ### 2.Data is Processed "
   ]
  },
  {
   "cell_type": "markdown",
   "metadata": {},
   "source": [
    "Here the data is already in a format we want to analyze."
   ]
  },
  {
   "cell_type": "markdown",
   "metadata": {},
   "source": [
    "### 3. Clean the dataset"
   ]
  },
  {
   "cell_type": "markdown",
   "metadata": {},
   "source": [
    "Here we check for missing values, outliers, etc.  The first thing we'll do is read in the data and print out the first few rows of the data. \n",
    "\n",
    "`data.head(n=5): ` This prints out the first 5 rows of the data"
   ]
  },
  {
   "cell_type": "code",
   "execution_count": 79,
   "metadata": {
    "scrolled": false
   },
   "outputs": [
    {
     "data": {
      "text/html": [
       "<div>\n",
       "<style scoped>\n",
       "    .dataframe tbody tr th:only-of-type {\n",
       "        vertical-align: middle;\n",
       "    }\n",
       "\n",
       "    .dataframe tbody tr th {\n",
       "        vertical-align: top;\n",
       "    }\n",
       "\n",
       "    .dataframe thead th {\n",
       "        text-align: right;\n",
       "    }\n",
       "</style>\n",
       "<table border=\"1\" class=\"dataframe\">\n",
       "  <thead>\n",
       "    <tr style=\"text-align: right;\">\n",
       "      <th></th>\n",
       "      <th>User_ID</th>\n",
       "      <th>Product_ID</th>\n",
       "      <th>Gender</th>\n",
       "      <th>Age</th>\n",
       "      <th>Occupation</th>\n",
       "      <th>City_Category</th>\n",
       "      <th>Stay_In_Current_City_Years</th>\n",
       "      <th>Marital_Status</th>\n",
       "      <th>Product_Category_1</th>\n",
       "      <th>Product_Category_2</th>\n",
       "      <th>Product_Category_3</th>\n",
       "      <th>Purchase</th>\n",
       "    </tr>\n",
       "  </thead>\n",
       "  <tbody>\n",
       "    <tr>\n",
       "      <th>0</th>\n",
       "      <td>1000001</td>\n",
       "      <td>P00069042</td>\n",
       "      <td>F</td>\n",
       "      <td>0-17</td>\n",
       "      <td>10</td>\n",
       "      <td>A</td>\n",
       "      <td>2</td>\n",
       "      <td>0</td>\n",
       "      <td>3</td>\n",
       "      <td>NaN</td>\n",
       "      <td>NaN</td>\n",
       "      <td>8370</td>\n",
       "    </tr>\n",
       "    <tr>\n",
       "      <th>1</th>\n",
       "      <td>1000001</td>\n",
       "      <td>P00248942</td>\n",
       "      <td>F</td>\n",
       "      <td>0-17</td>\n",
       "      <td>10</td>\n",
       "      <td>A</td>\n",
       "      <td>2</td>\n",
       "      <td>0</td>\n",
       "      <td>1</td>\n",
       "      <td>6.0</td>\n",
       "      <td>14.0</td>\n",
       "      <td>15200</td>\n",
       "    </tr>\n",
       "    <tr>\n",
       "      <th>2</th>\n",
       "      <td>1000001</td>\n",
       "      <td>P00087842</td>\n",
       "      <td>F</td>\n",
       "      <td>0-17</td>\n",
       "      <td>10</td>\n",
       "      <td>A</td>\n",
       "      <td>2</td>\n",
       "      <td>0</td>\n",
       "      <td>12</td>\n",
       "      <td>NaN</td>\n",
       "      <td>NaN</td>\n",
       "      <td>1422</td>\n",
       "    </tr>\n",
       "    <tr>\n",
       "      <th>3</th>\n",
       "      <td>1000001</td>\n",
       "      <td>P00085442</td>\n",
       "      <td>F</td>\n",
       "      <td>0-17</td>\n",
       "      <td>10</td>\n",
       "      <td>A</td>\n",
       "      <td>2</td>\n",
       "      <td>0</td>\n",
       "      <td>12</td>\n",
       "      <td>14.0</td>\n",
       "      <td>NaN</td>\n",
       "      <td>1057</td>\n",
       "    </tr>\n",
       "    <tr>\n",
       "      <th>4</th>\n",
       "      <td>1000002</td>\n",
       "      <td>P00285442</td>\n",
       "      <td>M</td>\n",
       "      <td>55+</td>\n",
       "      <td>16</td>\n",
       "      <td>C</td>\n",
       "      <td>4+</td>\n",
       "      <td>0</td>\n",
       "      <td>8</td>\n",
       "      <td>NaN</td>\n",
       "      <td>NaN</td>\n",
       "      <td>7969</td>\n",
       "    </tr>\n",
       "  </tbody>\n",
       "</table>\n",
       "</div>"
      ],
      "text/plain": [
       "   User_ID Product_ID Gender   Age  Occupation City_Category Stay_In_Current_City_Years  Marital_Status  Product_Category_1  Product_Category_2  Product_Category_3  Purchase\n",
       "0  1000001  P00069042      F  0-17          10             A                          2               0                   3                 NaN                 NaN      8370\n",
       "1  1000001  P00248942      F  0-17          10             A                          2               0                   1                 6.0                14.0     15200\n",
       "2  1000001  P00087842      F  0-17          10             A                          2               0                  12                 NaN                 NaN      1422\n",
       "3  1000001  P00085442      F  0-17          10             A                          2               0                  12                14.0                 NaN      1057\n",
       "4  1000002  P00285442      M   55+          16             C                         4+               0                   8                 NaN                 NaN      7969"
      ]
     },
     "execution_count": 79,
     "metadata": {},
     "output_type": "execute_result"
    }
   ],
   "source": [
    "data=pd.read_csv(\"BlackFriday.csv\",header=0)\n",
    "data.head(n=5)"
   ]
  },
  {
   "cell_type": "markdown",
   "metadata": {},
   "source": [
    "We already see in the first few rows that there are missing values. Let's see how much there is by looping each column and printing out the results by column.\n",
    "\n",
    "**`sum(data[i].isnull())`** - This will add up the trues which is essentially represented as a 1 in programming. <br> \n",
    "**`data.shape`** - Returns a tuple of dimensions for the dataframe"
   ]
  },
  {
   "cell_type": "code",
   "execution_count": 80,
   "metadata": {},
   "outputs": [
    {
     "name": "stdout",
     "output_type": "stream",
     "text": [
      "In Column User_ID there are 0.0% missing values\n",
      "In Column Product_ID there are 0.0% missing values\n",
      "In Column Gender there are 0.0% missing values\n",
      "In Column Age there are 0.0% missing values\n",
      "In Column Occupation there are 0.0% missing values\n",
      "In Column City_Category there are 0.0% missing values\n",
      "In Column Stay_In_Current_City_Years there are 0.0% missing values\n",
      "In Column Marital_Status there are 0.0% missing values\n",
      "In Column Product_Category_1 there are 0.0% missing values\n",
      "In Column Product_Category_2 there are 31.1% missing values\n",
      "In Column Product_Category_3 there are 69.4% missing values\n",
      "In Column Purchase there are 0.0% missing values\n"
     ]
    }
   ],
   "source": [
    "for i in data.columns:\n",
    "    print(\"In Column {0} there are {1:.1f}% missing values\".format(i, sum(data[i].isnull())/data.shape[0]*100)) "
   ]
  },
  {
   "cell_type": "markdown",
   "metadata": {},
   "source": [
    "In the print out above, we have some missing values especially with `Product_Category_2` and `Product_Category_3`. We will try to replace the missing values with a 0 since they are categorical. Also we will ensure that the column datatypes are accurate, as pandas does its best to guess the datatype and sometimes chooses the incorrect one. \n",
    "\n",
    "**`data.fillna(0,inplace=True)`** - Here replace all missing values with 0 and use inplace=True to return a copy of the same object. <br>\n",
    "**`data.dtypes`** - This returns an series of the datatypes by column."
   ]
  },
  {
   "cell_type": "code",
   "execution_count": 81,
   "metadata": {},
   "outputs": [
    {
     "data": {
      "text/html": [
       "<div>\n",
       "<style scoped>\n",
       "    .dataframe tbody tr th:only-of-type {\n",
       "        vertical-align: middle;\n",
       "    }\n",
       "\n",
       "    .dataframe tbody tr th {\n",
       "        vertical-align: top;\n",
       "    }\n",
       "\n",
       "    .dataframe thead th {\n",
       "        text-align: right;\n",
       "    }\n",
       "</style>\n",
       "<table border=\"1\" class=\"dataframe\">\n",
       "  <thead>\n",
       "    <tr style=\"text-align: right;\">\n",
       "      <th></th>\n",
       "      <th>User_ID</th>\n",
       "      <th>Product_ID</th>\n",
       "      <th>Gender</th>\n",
       "      <th>Age</th>\n",
       "      <th>Occupation</th>\n",
       "      <th>City_Category</th>\n",
       "      <th>Stay_In_Current_City_Years</th>\n",
       "      <th>Marital_Status</th>\n",
       "      <th>Product_Category_1</th>\n",
       "      <th>Product_Category_2</th>\n",
       "      <th>Product_Category_3</th>\n",
       "      <th>Purchase</th>\n",
       "    </tr>\n",
       "  </thead>\n",
       "  <tbody>\n",
       "    <tr>\n",
       "      <th>0</th>\n",
       "      <td>1000001</td>\n",
       "      <td>P00069042</td>\n",
       "      <td>F</td>\n",
       "      <td>0-17</td>\n",
       "      <td>10</td>\n",
       "      <td>A</td>\n",
       "      <td>2</td>\n",
       "      <td>0</td>\n",
       "      <td>3</td>\n",
       "      <td>0.0</td>\n",
       "      <td>0.0</td>\n",
       "      <td>8370</td>\n",
       "    </tr>\n",
       "    <tr>\n",
       "      <th>1</th>\n",
       "      <td>1000001</td>\n",
       "      <td>P00248942</td>\n",
       "      <td>F</td>\n",
       "      <td>0-17</td>\n",
       "      <td>10</td>\n",
       "      <td>A</td>\n",
       "      <td>2</td>\n",
       "      <td>0</td>\n",
       "      <td>1</td>\n",
       "      <td>6.0</td>\n",
       "      <td>14.0</td>\n",
       "      <td>15200</td>\n",
       "    </tr>\n",
       "    <tr>\n",
       "      <th>2</th>\n",
       "      <td>1000001</td>\n",
       "      <td>P00087842</td>\n",
       "      <td>F</td>\n",
       "      <td>0-17</td>\n",
       "      <td>10</td>\n",
       "      <td>A</td>\n",
       "      <td>2</td>\n",
       "      <td>0</td>\n",
       "      <td>12</td>\n",
       "      <td>0.0</td>\n",
       "      <td>0.0</td>\n",
       "      <td>1422</td>\n",
       "    </tr>\n",
       "    <tr>\n",
       "      <th>3</th>\n",
       "      <td>1000001</td>\n",
       "      <td>P00085442</td>\n",
       "      <td>F</td>\n",
       "      <td>0-17</td>\n",
       "      <td>10</td>\n",
       "      <td>A</td>\n",
       "      <td>2</td>\n",
       "      <td>0</td>\n",
       "      <td>12</td>\n",
       "      <td>14.0</td>\n",
       "      <td>0.0</td>\n",
       "      <td>1057</td>\n",
       "    </tr>\n",
       "    <tr>\n",
       "      <th>4</th>\n",
       "      <td>1000002</td>\n",
       "      <td>P00285442</td>\n",
       "      <td>M</td>\n",
       "      <td>55+</td>\n",
       "      <td>16</td>\n",
       "      <td>C</td>\n",
       "      <td>4+</td>\n",
       "      <td>0</td>\n",
       "      <td>8</td>\n",
       "      <td>0.0</td>\n",
       "      <td>0.0</td>\n",
       "      <td>7969</td>\n",
       "    </tr>\n",
       "  </tbody>\n",
       "</table>\n",
       "</div>"
      ],
      "text/plain": [
       "   User_ID Product_ID Gender   Age  Occupation City_Category Stay_In_Current_City_Years  Marital_Status  Product_Category_1  Product_Category_2  Product_Category_3  Purchase\n",
       "0  1000001  P00069042      F  0-17          10             A                          2               0                   3                 0.0                 0.0      8370\n",
       "1  1000001  P00248942      F  0-17          10             A                          2               0                   1                 6.0                14.0     15200\n",
       "2  1000001  P00087842      F  0-17          10             A                          2               0                  12                 0.0                 0.0      1422\n",
       "3  1000001  P00085442      F  0-17          10             A                          2               0                  12                14.0                 0.0      1057\n",
       "4  1000002  P00285442      M   55+          16             C                         4+               0                   8                 0.0                 0.0      7969"
      ]
     },
     "execution_count": 81,
     "metadata": {},
     "output_type": "execute_result"
    }
   ],
   "source": [
    "data.fillna(0,inplace=True)\n",
    "data.head(5)"
   ]
  },
  {
   "cell_type": "code",
   "execution_count": 82,
   "metadata": {},
   "outputs": [
    {
     "data": {
      "text/plain": [
       "User_ID                        int64\n",
       "Product_ID                    object\n",
       "Gender                         int64\n",
       "Age                           object\n",
       "Occupation                     int64\n",
       "City_Category                 object\n",
       "Stay_In_Current_City_Years    object\n",
       "Marital_Status                 int64\n",
       "Product_Category_1             int64\n",
       "Product_Category_2             int64\n",
       "Product_Category_3             int64\n",
       "Purchase                       int64\n",
       "dtype: object"
      ]
     },
     "execution_count": 82,
     "metadata": {},
     "output_type": "execute_result"
    }
   ],
   "source": [
    "data.dtypes\n",
    "data[\"Product_Category_2\"]=data[\"Product_Category_2\"].astype(\"int64\",copy=True)\n",
    "data[\"Product_Category_3\"]=data[\"Product_Category_3\"].astype(\"int64\",copy=True)\n",
    "data[\"Gender\"]=data[\"Gender\"].map({\"M\":0,\"F\":1})\n",
    "data.dtypes"
   ]
  },
  {
   "cell_type": "markdown",
   "metadata": {},
   "source": [
    "In terms of duplicates we'll have to assume that each transaction even though the same transaction is entirely possible. And outliers we can see how many observations fall outside $(Q_1-1.5*IQR, Q_3+1.5*IQR )$ where $Q_1$ is the 1st quartile and $Q_3$ is the 3rd quartile. This only works for numerical datatypes only. "
   ]
  },
  {
   "cell_type": "code",
   "execution_count": 83,
   "metadata": {},
   "outputs": [
    {
     "name": "stdout",
     "output_type": "stream",
     "text": [
      "There are 0         0\n",
      "1         0\n",
      "2         0\n",
      "3         0\n",
      "4         0\n",
      "5         0\n",
      "6         0\n",
      "7         0\n",
      "8         0\n",
      "9         0\n",
      "10        0\n",
      "11        0\n",
      "12        0\n",
      "13        0\n",
      "14        0\n",
      "15        0\n",
      "16        0\n",
      "17        0\n",
      "18        0\n",
      "19        0\n",
      "20        0\n",
      "21        0\n",
      "22        0\n",
      "23        0\n",
      "24        0\n",
      "25        0\n",
      "26        0\n",
      "27        0\n",
      "28        0\n",
      "29        0\n",
      "         ..\n",
      "537547    0\n",
      "537548    0\n",
      "537549    0\n",
      "537550    0\n",
      "537551    0\n",
      "537552    0\n",
      "537553    0\n",
      "537554    0\n",
      "537555    0\n",
      "537556    0\n",
      "537557    0\n",
      "537558    0\n",
      "537559    0\n",
      "537560    0\n",
      "537561    0\n",
      "537562    0\n",
      "537563    0\n",
      "537564    0\n",
      "537565    0\n",
      "537566    0\n",
      "537567    0\n",
      "537568    0\n",
      "537569    0\n",
      "537570    0\n",
      "537571    0\n",
      "537572    0\n",
      "537573    0\n",
      "537574    0\n",
      "537575    0\n",
      "537576    0\n",
      "Name: Purchase, Length: 537577, dtype: int64 potential outliers in column Purchase\n"
     ]
    },
    {
     "data": {
      "text/plain": [
       "473250    21384\n",
       "114794    21384\n",
       "133756    21385\n",
       "509539    21386\n",
       "503699    21386\n",
       "241285    21386\n",
       "Name: Purchase, dtype: int64"
      ]
     },
     "execution_count": 83,
     "metadata": {},
     "output_type": "execute_result"
    }
   ],
   "source": [
    "def outlier(x,lower_bd, upper_bd):\n",
    "    if x>=lower_bd and x<=upper_bd:\n",
    "        return 0 \n",
    "    else:\n",
    "        return 1\n",
    "IQR=data[\"Purchase\"].quantile(q=.75)-data[\"Purchase\"].quantile(q=.25)\n",
    "lower_bd=data[\"Purchase\"].quantile(q=.25)-1.5*IQR\n",
    "upper_bd=data[\"Purchase\"].quantile(q=.75)+1.5*IQR\n",
    "selection=data[\"Purchase\"].apply(lambda x: outlier(x,lower_bd,upper_bd))\n",
    "print(\"There are {0} potential outliers in column {1}\".format(selection,\"Purchase\"))\n",
    "data[\"Purchase\"][selection==1].sort_values(ascending=True)[0:6]"
   ]
  },
  {
   "cell_type": "markdown",
   "metadata": {},
   "source": [
    " ### 4. EDA"
   ]
  },
  {
   "cell_type": "markdown",
   "metadata": {},
   "source": [
    "Now that the missing values are replaced, we'll start to explore the data. Pandas has a great function called `describe()` which will return the summary by column. \n",
    "\n",
    "Some observations here: \n",
    "1. The average purchase price is 9334 while the largest purchase is 23961. \n",
    "2. Roughly half the users are married."
   ]
  },
  {
   "cell_type": "code",
   "execution_count": 84,
   "metadata": {},
   "outputs": [
    {
     "data": {
      "text/html": [
       "<div>\n",
       "<style scoped>\n",
       "    .dataframe tbody tr th:only-of-type {\n",
       "        vertical-align: middle;\n",
       "    }\n",
       "\n",
       "    .dataframe tbody tr th {\n",
       "        vertical-align: top;\n",
       "    }\n",
       "\n",
       "    .dataframe thead th {\n",
       "        text-align: right;\n",
       "    }\n",
       "</style>\n",
       "<table border=\"1\" class=\"dataframe\">\n",
       "  <thead>\n",
       "    <tr style=\"text-align: right;\">\n",
       "      <th></th>\n",
       "      <th>User_ID</th>\n",
       "      <th>Gender</th>\n",
       "      <th>Occupation</th>\n",
       "      <th>Marital_Status</th>\n",
       "      <th>Product_Category_1</th>\n",
       "      <th>Product_Category_2</th>\n",
       "      <th>Product_Category_3</th>\n",
       "      <th>Purchase</th>\n",
       "    </tr>\n",
       "  </thead>\n",
       "  <tbody>\n",
       "    <tr>\n",
       "      <th>count</th>\n",
       "      <td>5.375770e+05</td>\n",
       "      <td>537577.000000</td>\n",
       "      <td>537577.00000</td>\n",
       "      <td>537577.000000</td>\n",
       "      <td>537577.000000</td>\n",
       "      <td>537577.000000</td>\n",
       "      <td>537577.000000</td>\n",
       "      <td>537577.000000</td>\n",
       "    </tr>\n",
       "    <tr>\n",
       "      <th>mean</th>\n",
       "      <td>1.002992e+06</td>\n",
       "      <td>0.245913</td>\n",
       "      <td>8.08271</td>\n",
       "      <td>0.408797</td>\n",
       "      <td>5.295546</td>\n",
       "      <td>6.784907</td>\n",
       "      <td>3.871773</td>\n",
       "      <td>9333.859853</td>\n",
       "    </tr>\n",
       "    <tr>\n",
       "      <th>std</th>\n",
       "      <td>1.714393e+03</td>\n",
       "      <td>0.430627</td>\n",
       "      <td>6.52412</td>\n",
       "      <td>0.491612</td>\n",
       "      <td>3.750701</td>\n",
       "      <td>6.211618</td>\n",
       "      <td>6.265963</td>\n",
       "      <td>4981.022133</td>\n",
       "    </tr>\n",
       "    <tr>\n",
       "      <th>min</th>\n",
       "      <td>1.000001e+06</td>\n",
       "      <td>0.000000</td>\n",
       "      <td>0.00000</td>\n",
       "      <td>0.000000</td>\n",
       "      <td>1.000000</td>\n",
       "      <td>0.000000</td>\n",
       "      <td>0.000000</td>\n",
       "      <td>185.000000</td>\n",
       "    </tr>\n",
       "    <tr>\n",
       "      <th>25%</th>\n",
       "      <td>1.001495e+06</td>\n",
       "      <td>0.000000</td>\n",
       "      <td>2.00000</td>\n",
       "      <td>0.000000</td>\n",
       "      <td>1.000000</td>\n",
       "      <td>0.000000</td>\n",
       "      <td>0.000000</td>\n",
       "      <td>5866.000000</td>\n",
       "    </tr>\n",
       "    <tr>\n",
       "      <th>50%</th>\n",
       "      <td>1.003031e+06</td>\n",
       "      <td>0.000000</td>\n",
       "      <td>7.00000</td>\n",
       "      <td>0.000000</td>\n",
       "      <td>5.000000</td>\n",
       "      <td>5.000000</td>\n",
       "      <td>0.000000</td>\n",
       "      <td>8062.000000</td>\n",
       "    </tr>\n",
       "    <tr>\n",
       "      <th>75%</th>\n",
       "      <td>1.004417e+06</td>\n",
       "      <td>0.000000</td>\n",
       "      <td>14.00000</td>\n",
       "      <td>1.000000</td>\n",
       "      <td>8.000000</td>\n",
       "      <td>14.000000</td>\n",
       "      <td>8.000000</td>\n",
       "      <td>12073.000000</td>\n",
       "    </tr>\n",
       "    <tr>\n",
       "      <th>max</th>\n",
       "      <td>1.006040e+06</td>\n",
       "      <td>1.000000</td>\n",
       "      <td>20.00000</td>\n",
       "      <td>1.000000</td>\n",
       "      <td>18.000000</td>\n",
       "      <td>18.000000</td>\n",
       "      <td>18.000000</td>\n",
       "      <td>23961.000000</td>\n",
       "    </tr>\n",
       "  </tbody>\n",
       "</table>\n",
       "</div>"
      ],
      "text/plain": [
       "            User_ID         Gender    Occupation  Marital_Status  Product_Category_1  Product_Category_2  Product_Category_3       Purchase\n",
       "count  5.375770e+05  537577.000000  537577.00000   537577.000000       537577.000000       537577.000000       537577.000000  537577.000000\n",
       "mean   1.002992e+06       0.245913       8.08271        0.408797            5.295546            6.784907            3.871773    9333.859853\n",
       "std    1.714393e+03       0.430627       6.52412        0.491612            3.750701            6.211618            6.265963    4981.022133\n",
       "min    1.000001e+06       0.000000       0.00000        0.000000            1.000000            0.000000            0.000000     185.000000\n",
       "25%    1.001495e+06       0.000000       2.00000        0.000000            1.000000            0.000000            0.000000    5866.000000\n",
       "50%    1.003031e+06       0.000000       7.00000        0.000000            5.000000            5.000000            0.000000    8062.000000\n",
       "75%    1.004417e+06       0.000000      14.00000        1.000000            8.000000           14.000000            8.000000   12073.000000\n",
       "max    1.006040e+06       1.000000      20.00000        1.000000           18.000000           18.000000           18.000000   23961.000000"
      ]
     },
     "execution_count": 84,
     "metadata": {},
     "output_type": "execute_result"
    }
   ],
   "source": [
    "data.describe()"
   ]
  },
  {
   "cell_type": "markdown",
   "metadata": {},
   "source": [
    "In the plot below, we first eliminate the duplicate users as some users are repeat buyers. From the bar plot below we see that that the male shoppers outnumber the female shoppers by more then twice. \n",
    "\n",
    "**Notes:** <br>\n",
    "**`data[[\"User_ID\",\"Gender\"]].drop_duplicates()[\"Gender\"]`** - We select the columns User_ID and Gender and drop the duplicates followed by selecting Gender which is last in the chain. <br> "
   ]
  },
  {
   "cell_type": "code",
   "execution_count": 85,
   "metadata": {},
   "outputs": [
    {
     "data": {
      "image/png": "[encoded data removed]",
      "text/plain": [
       "<Figure size 432x288 with 1 Axes>"
      ]
     },
     "metadata": {
      "needs_background": "light"
     },
     "output_type": "display_data"
    }
   ],
   "source": [
    "sns.countplot(data[[\"User_ID\",\"Gender\"]].drop_duplicates()[\"Gender\"], order=[0,1])\n",
    "plt.xticks([0,1],['M','F'])\n",
    "plt.title(\"Distribution of Customers by Gender\")\n",
    "plt.ylabel(\"Count\")\n",
    "plt.show()"
   ]
  },
  {
   "cell_type": "markdown",
   "metadata": {},
   "source": [
    "Below we see what the distribution of married couples are. The plot shows that more buyers are single then not. "
   ]
  },
  {
   "cell_type": "code",
   "execution_count": 86,
   "metadata": {},
   "outputs": [
    {
     "data": {
      "image/png": "[encoded data removed]",
      "text/plain": [
       "<Figure size 432x288 with 1 Axes>"
      ]
     },
     "metadata": {
      "needs_background": "light"
     },
     "output_type": "display_data"
    }
   ],
   "source": [
    "sns.countplot(data[[\"User_ID\",\"Marital_Status\"]].drop_duplicates()[\"Marital_Status\"], order=[0,1])\n",
    "plt.xticks([0,1],['Single','Married'])\n",
    "plt.title(\"Married Customer Distribution\")\n",
    "plt.ylabel(\"Count\")\n",
    "plt.show()"
   ]
  },
  {
   "cell_type": "markdown",
   "metadata": {},
   "source": [
    "Below we provide a summary of the total spent by males and females, and males spent roughly 3 times more the the females. "
   ]
  },
  {
   "cell_type": "code",
   "execution_count": 87,
   "metadata": {},
   "outputs": [
    {
     "data": {
      "text/html": [
       "<div>\n",
       "<style scoped>\n",
       "    .dataframe tbody tr th:only-of-type {\n",
       "        vertical-align: middle;\n",
       "    }\n",
       "\n",
       "    .dataframe tbody tr th {\n",
       "        vertical-align: top;\n",
       "    }\n",
       "\n",
       "    .dataframe thead th {\n",
       "        text-align: right;\n",
       "    }\n",
       "</style>\n",
       "<table border=\"1\" class=\"dataframe\">\n",
       "  <thead>\n",
       "    <tr style=\"text-align: right;\">\n",
       "      <th></th>\n",
       "      <th>Purchase</th>\n",
       "    </tr>\n",
       "    <tr>\n",
       "      <th>Gender</th>\n",
       "      <th></th>\n",
       "    </tr>\n",
       "  </thead>\n",
       "  <tbody>\n",
       "    <tr>\n",
       "      <th>0</th>\n",
       "      <td>3,853,044,357</td>\n",
       "    </tr>\n",
       "    <tr>\n",
       "      <th>1</th>\n",
       "      <td>1,164,624,021</td>\n",
       "    </tr>\n",
       "  </tbody>\n",
       "</table>\n",
       "</div>"
      ],
      "text/plain": [
       "             Purchase\n",
       "Gender               \n",
       "0       3,853,044,357\n",
       "1       1,164,624,021"
      ]
     },
     "execution_count": 87,
     "metadata": {},
     "output_type": "execute_result"
    }
   ],
   "source": [
    "smry_1=data[[\"Gender\",\"Purchase\"]].groupby(\"Gender\").sum()\n",
    "smry_1[\"Purchase\"]=smry_1[\"Purchase\"].apply(lambda x: \"{:,}\".format(x))\n",
    "smry_1"
   ]
  },
  {
   "cell_type": "code",
   "execution_count": 88,
   "metadata": {},
   "outputs": [
    {
     "data": {
      "image/png": "[encoded data removed]",
      "text/plain": [
       "<Figure size 432x288 with 1 Axes>"
      ]
     },
     "metadata": {
      "needs_background": "light"
     },
     "output_type": "display_data"
    }
   ],
   "source": [
    "smry_1=data[[\"Gender\",\"Purchase\"]].groupby(\"Gender\").sum()\n",
    "sns.barplot(y=smry_1.index,x=smry_1[\"Purchase\"]/1e9,orient=\"h\",palette=\"bright\")\n",
    "plt.yticks([0,1],[\"M\",\"F\"])\n",
    "plt.xlabel(\"Purchase in Billions\")\n",
    "plt.title(\"Total Purchase by Gender\")\n",
    "plt.show()"
   ]
  },
  {
   "cell_type": "markdown",
   "metadata": {},
   "source": [
    "Next plot we will take a look at is a barchart of the amount of purchases by city. We see that in city category B had the most of amount of purchase volume. \n",
    "\n",
    "**Syntax**\n",
    "\n",
    "**1.`sns.barplot(x=smry_2.index,y=smry_2[\"Purchase\"]/1e9)`** - specify the x and y dimension where y is numerical. We divide the purchase to get the purchase in billions. <br>\n",
    "\n",
    "**2.`smry_2[\"Purchase\"].apply(lambda x: \"{:,}\".format(x))`** This will format the totals to include comma's. However this changes the data type to a string. "
   ]
  },
  {
   "cell_type": "code",
   "execution_count": 89,
   "metadata": {},
   "outputs": [
    {
     "name": "stdout",
     "output_type": "stream",
     "text": [
      "City_Category\n",
      "A    1,295,668,797\n",
      "B    2,083,431,612\n",
      "C    1,638,567,969\n",
      "Name: Purchase, dtype: object\n"
     ]
    },
    {
     "data": {
      "image/png": "[encoded data removed]",
      "text/plain": [
       "<Figure size 432x288 with 1 Axes>"
      ]
     },
     "metadata": {
      "needs_background": "light"
     },
     "output_type": "display_data"
    }
   ],
   "source": [
    "smry_2=data[[\"City_Category\",\"Purchase\"]].groupby(\"City_Category\").sum()\n",
    "print(smry_2[\"Purchase\"].apply(lambda x: \"{:,}\".format(x)))\n",
    "\n",
    "sns.barplot(x=smry_2.index,y=smry_2[\"Purchase\"]/1e9)\n",
    "plt.ylim(0,max(smry_2[\"Purchase\"])/1e9+1)\n",
    "plt.ylabel(\"Purchase in billions\")\n",
    "plt.title(\"Purchase by City Category\")\n",
    "plt.show()"
   ]
  },
  {
   "cell_type": "code",
   "execution_count": 90,
   "metadata": {},
   "outputs": [
    {
     "data": {
      "text/html": [
       "<div>\n",
       "<style scoped>\n",
       "    .dataframe tbody tr th:only-of-type {\n",
       "        vertical-align: middle;\n",
       "    }\n",
       "\n",
       "    .dataframe tbody tr th {\n",
       "        vertical-align: top;\n",
       "    }\n",
       "\n",
       "    .dataframe thead th {\n",
       "        text-align: right;\n",
       "    }\n",
       "</style>\n",
       "<table border=\"1\" class=\"dataframe\">\n",
       "  <thead>\n",
       "    <tr style=\"text-align: right;\">\n",
       "      <th></th>\n",
       "      <th>City_Category</th>\n",
       "      <th>Gender</th>\n",
       "      <th>Purchase</th>\n",
       "    </tr>\n",
       "  </thead>\n",
       "  <tbody>\n",
       "    <tr>\n",
       "      <th>0</th>\n",
       "      <td>A</td>\n",
       "      <td>0</td>\n",
       "      <td>995257521</td>\n",
       "    </tr>\n",
       "    <tr>\n",
       "      <th>1</th>\n",
       "      <td>A</td>\n",
       "      <td>1</td>\n",
       "      <td>300411276</td>\n",
       "    </tr>\n",
       "    <tr>\n",
       "      <th>2</th>\n",
       "      <td>B</td>\n",
       "      <td>0</td>\n",
       "      <td>1598118861</td>\n",
       "    </tr>\n",
       "    <tr>\n",
       "      <th>3</th>\n",
       "      <td>B</td>\n",
       "      <td>1</td>\n",
       "      <td>485312751</td>\n",
       "    </tr>\n",
       "    <tr>\n",
       "      <th>4</th>\n",
       "      <td>C</td>\n",
       "      <td>0</td>\n",
       "      <td>1259667975</td>\n",
       "    </tr>\n",
       "    <tr>\n",
       "      <th>5</th>\n",
       "      <td>C</td>\n",
       "      <td>1</td>\n",
       "      <td>378899994</td>\n",
       "    </tr>\n",
       "  </tbody>\n",
       "</table>\n",
       "</div>"
      ],
      "text/plain": [
       "  City_Category  Gender    Purchase\n",
       "0             A       0   995257521\n",
       "1             A       1   300411276\n",
       "2             B       0  1598118861\n",
       "3             B       1   485312751\n",
       "4             C       0  1259667975\n",
       "5             C       1   378899994"
      ]
     },
     "execution_count": 90,
     "metadata": {},
     "output_type": "execute_result"
    }
   ],
   "source": [
    "smry_3=data[[\"City_Category\",\"Gender\",\"Purchase\"]].groupby([\"City_Category\",\"Gender\"]).sum()\n",
    "smry_3=smry_3.reset_index()\n",
    "smry_3"
   ]
  },
  {
   "cell_type": "markdown",
   "metadata": {},
   "source": [
    "Below we plot the amount in purchases by gender and city category. Males have more purchase volume then the females while the purchase volume for females across city category remains fairly constant except in City B which has slightly more then the others. \n",
    "\n",
    "**Syntax** <br>\n",
    "**`1. sns.barplot(x=smry_3.City_Category,y=smry_3.Purchase/1e9,hue=smry_3.Gender, palette=[\"blue\",\"gold\"])`** - Here we specify the x and y axis. The `hue` argument is what we split the purchases by which is gender. The `palette` argument specifies the bar colors by city. <br> \n",
    "\n",
    "**`2. ax = plt.gca()`** - Here we specify this to get the axis of the current plot. <br>\n",
    "\n",
    "**`3.leg.legendHandles[0].set_color('blue')`** - Here we specify the colors of each of the lines in the legend.  \n"
   ]
  },
  {
   "cell_type": "code",
   "execution_count": 91,
   "metadata": {},
   "outputs": [
    {
     "data": {
      "image/png": "[encoded data removed]",
      "text/plain": [
       "<Figure size 432x288 with 1 Axes>"
      ]
     },
     "metadata": {
      "needs_background": "light"
     },
     "output_type": "display_data"
    }
   ],
   "source": [
    "sns.barplot(x=smry_3.City_Category,y=smry_3.Purchase/1e9,hue=smry_3.Gender, palette=[\"blue\",\"gold\"])\n",
    "plt.legend(labels=[\"M\",\"F\"])\n",
    "plt.ylabel(\"Purchase in Billions\")\n",
    "plt.title(\"Purchase by City Category and Gender\")\n",
    "ax = plt.gca()\n",
    "leg = ax.get_legend()\n",
    "leg.legendHandles[0].set_color('blue')\n",
    "leg.legendHandles[1].set_color('gold')\n",
    "plt.show()"
   ]
  },
  {
   "cell_type": "markdown",
   "metadata": {},
   "source": [
    "Next plot will be amount of purchase by age. We see from the plot below that individuals between 26 to 35 purchased the most. So the products are probably more towards the younger age group. "
   ]
  },
  {
   "cell_type": "code",
   "execution_count": 92,
   "metadata": {},
   "outputs": [
    {
     "data": {
      "image/png": "[encoded data removed]",
      "text/plain": [
       "<Figure size 432x288 with 1 Axes>"
      ]
     },
     "metadata": {
      "needs_background": "light"
     },
     "output_type": "display_data"
    }
   ],
   "source": [
    "smry_4=data[[\"Age\",\"Purchase\"]].groupby(\"Age\").sum()/1e9\n",
    "smry_4=smry_4.reset_index()\n",
    "sns.barplot(x=\"Age\",y=\"Purchase\",data=smry_4)\n",
    "plt.title(\"Total Purchase by Age Group\")\n",
    "plt.ylabel(\"Purchase in Billions\")\n",
    "plt.show()"
   ]
  },
  {
   "cell_type": "markdown",
   "metadata": {},
   "source": [
    "### 5. Model Building\n",
    "\n",
    "The problem here is to be able to predict purchase price based on purchase history and demographic data. We will be using the **statsmodels** package to fit linear regression models. We first begin by creating the design matrix by dropping `User_ID` and `Product_ID` since these are probably not needed as well as `Purchase` which is stored in the target variable y. Also we will recode some categorical variables as statsmodels package needs all numerical variables. Lastly we will split the datasets into training and test sets using a 75/25 split. \n",
    "\n",
    "**Notation:**<br>\n",
    "**1. `{j:i for i,j in zip(range(0,7), X[\"Age\"].unique())}`** - Here we use dictionary comprehension to generate by the unique values in the age column to integers\n",
    "\n",
    "**2.`X[\"City_Category\"].map({j:i for i,j in zip(range(0,7), X[\"Age\"].unique())}) `** - Here we are mapping the character values to integer values <br>\n",
    "\n",
    "**3.`np.random.choice(range(0, X.shape[0]),math.floor(X.shape[0]*.75),replace=False)`** - We are going to use this to split the training and test sets using a 75/25 split.\n",
    "\n",
    "**4. `X[~X.index.isin(indexes)].values`** - This is used to select only values not in the index for the test set. The ~ is the **not** operator in pandas."
   ]
  },
  {
   "cell_type": "code",
   "execution_count": 93,
   "metadata": {},
   "outputs": [],
   "source": [
    "X=data.drop(columns=[\"User_ID\",\"Product_ID\",\"Purchase\"])\n",
    "y=data[\"Purchase\"]\n",
    "\n",
    "#Recode age, City_Category\n",
    "X[\"Age\"]=X[\"Age\"].map({j:i for i,j in zip(range(0,7), X[\"Age\"].unique())})   \n",
    "X[\"City_Category\"]=X[\"City_Category\"].map({j:i for i,j in zip(range(0,3), X[\"City_Category\"].unique())})\n",
    "X[\"Stay_In_Current_City_Years\"]=X[\"Stay_In_Current_City_Years\"].map(\n",
    "    {j:i for i,j in zip(range(0,5), X[\"Stay_In_Current_City_Years\"].unique())})\n",
    "X.dtypes\n",
    "\n",
    "#Split X and y into training and test sets\n",
    "indexes=np.random.choice(range(0, X.shape[0]),int(np.floor(X.shape[0]*.75)),replace=False)\n",
    "X_train=X.iloc[indexes,:].values\n",
    "y_train=y[indexes].values\n",
    "X_test=X[~X.index.isin(indexes)].values\n",
    "y_test=y[~y.index.isin(indexes)].values\n",
    "\n",
    "X_train=sm.add_constant(X_train) #add in the intercept\n",
    "X_test=sm.add_constant(X_test)\n"
   ]
  },
  {
   "cell_type": "markdown",
   "metadata": {},
   "source": [
    "Below we see that fitting all the variables results in a poor fit. Kurtosis is high as its above 3 indicating skewness in the fit. "
   ]
  },
  {
   "cell_type": "code",
   "execution_count": 94,
   "metadata": {},
   "outputs": [],
   "source": [
    "fit1=smf.OLS(y_train,X_train).fit()"
   ]
  },
  {
   "cell_type": "code",
   "execution_count": 95,
   "metadata": {},
   "outputs": [
    {
     "name": "stdout",
     "output_type": "stream",
     "text": [
      "                            OLS Regression Results                            \n",
      "==============================================================================\n",
      "Dep. Variable:                      y   R-squared:                       0.131\n",
      "Model:                            OLS   Adj. R-squared:                  0.131\n",
      "Method:                 Least Squares   F-statistic:                     6770.\n",
      "Date:                Sat, 16 Mar 2019   Prob (F-statistic):               0.00\n",
      "Time:                        18:52:58   Log-Likelihood:            -3.9760e+06\n",
      "No. Observations:              403182   AIC:                         7.952e+06\n",
      "Df Residuals:                  403172   BIC:                         7.952e+06\n",
      "Df Model:                           9                                         \n",
      "Covariance Type:            nonrobust                                         \n",
      "==============================================================================\n",
      "                 coef    std err          t      P>|t|      [0.025      0.975]\n",
      "------------------------------------------------------------------------------\n",
      "const       1.037e+04     29.989    345.718      0.000    1.03e+04    1.04e+04\n",
      "x1          -475.9634     17.119    -27.803      0.000    -509.517    -442.410\n",
      "x2            -1.7550      4.172     -0.421      0.674      -9.933       6.423\n",
      "x3             9.8439      1.129      8.719      0.000       7.631      12.057\n",
      "x4            38.3325      8.957      4.279      0.000      20.776      55.889\n",
      "x5           -19.2324      5.482     -3.508      0.000     -29.978      -8.487\n",
      "x6            69.7882     14.928      4.675      0.000      40.530      99.046\n",
      "x7          -315.8128      2.119   -149.062      0.000    -319.965    -311.660\n",
      "x8            10.1732      1.182      8.607      0.000       7.856      12.490\n",
      "x9           149.6357      1.271    117.738      0.000     147.145     152.127\n",
      "==============================================================================\n",
      "Omnibus:                    38165.333   Durbin-Watson:                   1.996\n",
      "Prob(Omnibus):                  0.000   Jarque-Bera (JB):            51045.042\n",
      "Skew:                           0.797   Prob(JB):                         0.00\n",
      "Kurtosis:                       3.704   Cond. No.                         60.1\n",
      "==============================================================================\n",
      "\n",
      "Warnings:\n",
      "[1] Standard Errors assume that the covariance matrix of the errors is correctly specified.\n"
     ]
    }
   ],
   "source": [
    "print(fit1.summary())"
   ]
  },
  {
   "cell_type": "markdown",
   "metadata": {},
   "source": [
    "Below we plot the fitted values vs residuals to get an idea of the variance of the residuals. Generally it a good rule of thumb\n",
    "to follow is between -3 to 3. Here we see that most of the points are way out side that range indicating sigificant issues to the constant variance assumption."
   ]
  },
  {
   "cell_type": "code",
   "execution_count": 96,
   "metadata": {},
   "outputs": [
    {
     "data": {
      "image/png": "[encoded data removed]",
      "text/plain": [
       "<Figure size 432x288 with 1 Axes>"
      ]
     },
     "metadata": {
      "needs_background": "light"
     },
     "output_type": "display_data"
    }
   ],
   "source": [
    "plt.scatter(fit1.fittedvalues,fit1.resid)\n",
    "plt.axhline(y=0)\n",
    "plt.show()"
   ]
  },
  {
   "cell_type": "markdown",
   "metadata": {},
   "source": [
    "Here we use a different class to fit the model  or the **ols()** class which is the lower case version of the **Ols()** used above. This class allows the user to use **R** type notation to fit the model which is much easier to use in more complex models. Note that we use **C()** to represent the categorical variables in the model.  Here we see that the $R^2$ value has increased and the overall fit is significant. We will investigate later using foward selection and backward elimination techinques for variable selection as some are not significant. These can be dropped to simplify the model and lead to a better fit. This will be implemented outside direct use of a module.  "
   ]
  },
  {
   "cell_type": "code",
   "execution_count": 99,
   "metadata": {},
   "outputs": [
    {
     "name": "stdout",
     "output_type": "stream",
     "text": [
      "                            OLS Regression Results                            \n",
      "==============================================================================\n",
      "Dep. Variable:               Purchase   R-squared:                       0.639\n",
      "Model:                            OLS   Adj. R-squared:                  0.639\n",
      "Method:                 Least Squares   F-statistic:                     8588.\n",
      "Date:                Sat, 16 Mar 2019   Prob (F-statistic):               0.00\n",
      "Time:                        18:54:43   Log-Likelihood:            -3.7994e+06\n",
      "No. Observations:              403182   AIC:                         7.599e+06\n",
      "Df Residuals:                  403098   BIC:                         7.600e+06\n",
      "Df Model:                          83                                         \n",
      "Covariance Type:            nonrobust                                         \n",
      "=======================================================================================================\n",
      "                                          coef    std err          t      P>|t|      [0.025      0.975]\n",
      "-------------------------------------------------------------------------------------------------------\n",
      "Intercept                            1.316e+04     52.230    252.012      0.000    1.31e+04    1.33e+04\n",
      "C(City_Category)[T.B]                 139.0630     11.786     11.799      0.000     115.963     162.163\n",
      "C(City_Category)[T.C]                 546.2058     12.793     42.697      0.000     521.133     571.279\n",
      "C(Gender)[T.1]                         58.0045     11.522      5.034      0.000      35.423      80.586\n",
      "C(Age)[T.18-25]                      -177.7101     47.503     -3.741      0.000    -270.814     -84.607\n",
      "C(Age)[T.26-35]                       -90.5157     47.367     -1.911      0.056    -183.353       2.322\n",
      "C(Age)[T.36-45]                        24.9651     48.034      0.520      0.603     -69.180     119.110\n",
      "C(Age)[T.46-50]                        38.2954     50.186      0.763      0.445     -60.068     136.659\n",
      "C(Age)[T.51-55]                       267.6255     50.728      5.276      0.000     168.200     367.051\n",
      "C(Age)[T.55+]                         166.0563     53.773      3.088      0.002      60.663     271.450\n",
      "C(Occupation)[T.1]                    -44.1059     21.062     -2.094      0.036     -85.386      -2.826\n",
      "C(Occupation)[T.2]                     51.3178     25.366      2.023      0.043       1.601     101.035\n",
      "C(Occupation)[T.3]                    236.2563     29.550      7.995      0.000     178.339     294.174\n",
      "C(Occupation)[T.4]                    158.9968     20.141      7.894      0.000     119.522     198.472\n",
      "C(Occupation)[T.5]                     40.5209     34.486      1.175      0.240     -27.070     108.112\n",
      "C(Occupation)[T.6]                    216.4277     28.224      7.668      0.000     161.110     271.745\n",
      "C(Occupation)[T.7]                    107.7370     19.770      5.449      0.000      68.987     146.487\n",
      "C(Occupation)[T.8]                   -293.6020     89.604     -3.277      0.001    -469.223    -117.981\n",
      "C(Occupation)[T.9]                    101.6014     46.925      2.165      0.030       9.629     193.574\n",
      "C(Occupation)[T.10]                   -43.6823     50.875     -0.859      0.391    -143.395      56.030\n",
      "C(Occupation)[T.11]                    74.7148     35.237      2.120      0.034       5.652     143.777\n",
      "C(Occupation)[T.12]                   294.1060     23.981     12.264      0.000     247.103     341.109\n",
      "C(Occupation)[T.13]                    82.2641     45.431      1.811      0.070      -6.779     171.307\n",
      "C(Occupation)[T.14]                   187.2548     24.999      7.491      0.000     138.258     236.252\n",
      "C(Occupation)[T.15]                   386.0527     34.543     11.176      0.000     318.350     453.756\n",
      "C(Occupation)[T.16]                    98.7925     25.981      3.802      0.000      47.870     149.715\n",
      "C(Occupation)[T.17]                   193.4163     22.157      8.729      0.000     149.989     236.843\n",
      "C(Occupation)[T.18]                    12.0127     45.144      0.266      0.790     -76.469     100.494\n",
      "C(Occupation)[T.19]                  -341.0990     40.433     -8.436      0.000    -420.347    -261.851\n",
      "C(Occupation)[T.20]                  -119.7684     23.372     -5.125      0.000    -165.576     -73.961\n",
      "C(Marital_Status)[T.1]                -58.9893     10.261     -5.749      0.000     -79.101     -38.878\n",
      "C(Product_Category_1)[T.2]          -1788.5048     32.052    -55.801      0.000   -1851.325   -1725.685\n",
      "C(Product_Category_1)[T.3]          -2200.3531     44.594    -49.342      0.000   -2287.757   -2112.950\n",
      "C(Product_Category_1)[T.4]          -1.095e+04     40.043   -273.371      0.000    -1.1e+04   -1.09e+04\n",
      "C(Product_Category_1)[T.5]          -7270.3530     17.685   -411.093      0.000   -7305.016   -7235.690\n",
      "C(Product_Category_1)[T.6]           2141.9684     30.893     69.336      0.000    2081.420    2202.517\n",
      "C(Product_Category_1)[T.7]           2922.0230     59.301     49.275      0.000    2805.796    3038.250\n",
      "C(Product_Category_1)[T.8]          -6004.4681     18.847   -318.593      0.000   -6041.407   -5967.529\n",
      "C(Product_Category_1)[T.9]           2250.7000    175.166     12.849      0.000    1907.381    2594.019\n",
      "C(Product_Category_1)[T.10]          6178.6365     52.411    117.888      0.000    6075.912    6281.361\n",
      "C(Product_Category_1)[T.11]         -8717.1248     26.762   -325.728      0.000   -8769.577   -8664.672\n",
      "C(Product_Category_1)[T.12]         -1.214e+04     58.198   -208.628      0.000   -1.23e+04    -1.2e+04\n",
      "C(Product_Category_1)[T.13]         -1.276e+04     49.648   -256.986      0.000   -1.29e+04   -1.27e+04\n",
      "C(Product_Category_1)[T.14]          -283.3163     91.015     -3.113      0.002    -461.703    -104.929\n",
      "C(Product_Category_1)[T.15]          1222.1655     46.497     26.285      0.000    1131.033    1313.297\n",
      "C(Product_Category_1)[T.16]          1307.6704     39.468     33.132      0.000    1230.314    1385.027\n",
      "C(Product_Category_1)[T.17]         -3391.7227    144.934    -23.402      0.000   -3675.788   -3107.657\n",
      "C(Product_Category_1)[T.18]         -1.051e+04     65.520   -160.385      0.000   -1.06e+04   -1.04e+04\n",
      "C(Product_Category_2)[T.2]            126.7335     27.371      4.630      0.000      73.087     180.380\n",
      "C(Product_Category_2)[T.3]           1616.7927    101.363     15.950      0.000    1418.124    1815.462\n",
      "C(Product_Category_2)[T.4]          -1623.1060     45.749    -35.479      0.000   -1712.772   -1533.440\n",
      "C(Product_Category_2)[T.5]           -585.2219     32.728    -17.882      0.000    -649.367    -521.076\n",
      "C(Product_Category_2)[T.6]             92.9720     33.303      2.792      0.005      27.700     158.244\n",
      "C(Product_Category_2)[T.7]            715.9314    140.439      5.098      0.000     440.676     991.187\n",
      "C(Product_Category_2)[T.8]            311.2163     19.641     15.845      0.000     272.720     349.712\n",
      "C(Product_Category_2)[T.9]           -130.5996     49.343     -2.647      0.008    -227.310     -33.889\n",
      "C(Product_Category_2)[T.10]          1456.1659     73.203     19.892      0.000    1312.690    1599.642\n",
      "C(Product_Category_2)[T.11]          -255.2730     32.126     -7.946      0.000    -318.238    -192.308\n",
      "C(Product_Category_2)[T.12]          -404.4747     48.268     -8.380      0.000    -499.079    -309.871\n",
      "C(Product_Category_2)[T.13]          -112.8137     37.686     -2.994      0.003    -186.677     -38.950\n",
      "C(Product_Category_2)[T.14]          -137.3240     17.980     -7.638      0.000    -172.564    -102.084\n",
      "C(Product_Category_2)[T.15]          -138.3147     22.624     -6.114      0.000    -182.658     -93.972\n",
      "C(Product_Category_2)[T.16]            57.8827     20.841      2.777      0.005      17.035      98.730\n",
      "C(Product_Category_2)[T.17]           559.9362     31.835     17.589      0.000     497.540     622.332\n",
      "C(Product_Category_2)[T.18]           658.0576     67.106      9.806      0.000     526.533     789.583\n",
      "C(Product_Category_3)[T.3]            359.5086    140.755      2.554      0.011      83.633     635.385\n",
      "C(Product_Category_3)[T.4]          -3646.6223    107.633    -33.880      0.000   -3857.580   -3435.665\n",
      "C(Product_Category_3)[T.5]            564.6977     34.452     16.391      0.000     497.172     632.223\n",
      "C(Product_Category_3)[T.6]             99.1160     54.770      1.810      0.070      -8.231     206.463\n",
      "C(Product_Category_3)[T.8]           1651.4253     36.793     44.885      0.000    1579.313    1723.538\n",
      "C(Product_Category_3)[T.9]            364.9756     37.668      9.689      0.000     291.147     438.804\n",
      "C(Product_Category_3)[T.10]          -978.7703    102.308     -9.567      0.000   -1179.291    -778.249\n",
      "C(Product_Category_3)[T.11]          -517.6579     84.017     -6.161      0.000    -682.328    -352.988\n",
      "C(Product_Category_3)[T.12]           364.1307     41.520      8.770      0.000     282.754     445.508\n",
      "C(Product_Category_3)[T.13]          -749.0170     53.496    -14.001      0.000    -853.867    -644.167\n",
      "C(Product_Category_3)[T.14]           113.4587     28.733      3.949      0.000      57.143     169.775\n",
      "C(Product_Category_3)[T.15]          -407.7155     26.711    -15.264      0.000    -460.069    -355.362\n",
      "C(Product_Category_3)[T.16]            84.5443     23.103      3.660      0.000      39.264     129.825\n",
      "C(Product_Category_3)[T.17]          1033.5896     29.630     34.884      0.000     975.516    1091.663\n",
      "C(Product_Category_3)[T.18]           129.5415     53.297      2.431      0.015      25.081     234.002\n",
      "C(Stay_In_Current_City_Years)[T.1]      1.3009     15.172      0.086      0.932     -28.435      31.037\n",
      "C(Stay_In_Current_City_Years)[T.2]     48.3173     16.930      2.854      0.004      15.135      81.500\n",
      "C(Stay_In_Current_City_Years)[T.3]      7.7020     17.226      0.447      0.655     -26.061      41.465\n",
      "C(Stay_In_Current_City_Years)[T.4+]    23.5885     17.642      1.337      0.181     -10.988      58.165\n",
      "==============================================================================\n",
      "Omnibus:                    32085.913   Durbin-Watson:                   1.998\n",
      "Prob(Omnibus):                  0.000   Jarque-Bera (JB):            49653.792\n",
      "Skew:                          -0.626   Prob(JB):                         0.00\n",
      "Kurtosis:                       4.179   Cond. No.                         56.0\n",
      "==============================================================================\n",
      "\n",
      "Warnings:\n",
      "[1] Standard Errors assume that the covariance matrix of the errors is correctly specified.\n"
     ]
    }
   ],
   "source": [
    "indexes=np.random.choice(range(0, X.shape[0]),int(np.floor(X.shape[0]*.75)),replace=False)\n",
    "data_train=data.iloc[indexes,:]\n",
    "data_test=data[~data.index.isin(indexes)]\n",
    "fit2=smf.ols(\"Purchase~C(City_Category)+C(Gender)+C(Age)+C(Occupation)+C(Marital_Status)+C(Product_Category_1)+C(Product_Category_2)+C(Product_Category_3)+C(Stay_In_Current_City_Years)\",data=data_train)\n",
    "res=fit2.fit()\n",
    "print(res.summary())"
   ]
  },
  {
   "cell_type": "markdown",
   "metadata": {},
   "source": [
    "Now that we have recoded the variables lets fit a linear regression using all the variables. "
   ]
  }
 ],
 "metadata": {
  "kernelspec": {
   "display_name": "Python 3",
   "language": "python",
   "name": "python3"
  },
  "language_info": {
   "codemirror_mode": {
    "name": "ipython",
    "version": 3
   },
   "file_extension": ".py",
   "mimetype": "text/x-python",
   "name": "python",
   "nbconvert_exporter": "python",
   "pygments_lexer": "ipython3",
   "version": "3.7.1"
  }
 },
 "nbformat": 4,
 "nbformat_minor": 2
}
